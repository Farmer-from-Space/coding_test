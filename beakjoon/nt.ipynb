{
 "cells": [
  {
   "cell_type": "code",
   "execution_count": 175,
   "metadata": {},
   "outputs": [],
   "source": [
    "import sys, io\n",
    "    \n",
    "file = open(\"inputs.txt\", 'w')\n",
    "# 다음 데이터에 그대로 여러 데이터를 복사붙여넣기 하면 됨\n",
    "data = \"\"\"0 3 5 4 6 9 2 7 8\n",
    "7 8 2 1 0 5 6 0 9\n",
    "0 6 0 2 7 8 1 3 5\n",
    "3 2 1 0 4 6 8 9 7\n",
    "8 0 4 9 1 3 5 0 6\n",
    "5 9 6 8 2 0 4 1 3\n",
    "9 1 7 6 5 2 0 8 0\n",
    "6 0 3 7 0 1 9 5 2\n",
    "2 5 8 3 9 4 7 6 0\n",
    "\"\"\"\n",
    "file.write(data)\n",
    "file.close()\n",
    "\n",
    "input_file = open(\"inputs.txt\", \"r\") \n",
    "sys.stdin = io.StringIO(input_file.read())"
   ]
  },
  {
   "cell_type": "code",
   "execution_count": 137,
   "metadata": {},
   "outputs": [
    {
     "name": "stdout",
     "output_type": "stream",
     "text": [
      "1 3 5 4 6 9 2 7 8\n",
      "7 8 2 1 3 5 6 4 9\n",
      "4 6 9 2 7 8 1 3 5\n",
      "3 2 1 5 4 6 8 9 7\n",
      "8 7 4 9 1 3 5 2 6\n",
      "5 9 6 8 2 7 4 1 3\n",
      "9 1 7 6 5 2 3 8 4\n",
      "6 4 3 7 8 1 9 5 2\n",
      "2 5 8 3 9 4 7 6 1\n"
     ]
    }
   ],
   "source": [
    "import sys\n",
    "input = sys.stdin.readline\n",
    "sudoku = [list(map(int, input().split())) for _ in range(9)]\n",
    "\n",
    "for i in range(9):\n",
    "    if sudoku[i].count(0) == 1:\n",
    "        for j in range(1,10):\n",
    "            if j not in sudoku[i]:\n",
    "                sudoku[i][sudoku[i].index(0)] = j\n",
    "                break\n",
    "sudoku = [list(i[::-1]) for i in zip(*sudoku) ]\n",
    "\n",
    "for i in range(9):\n",
    "    if sudoku[i].count(0) == 1:\n",
    "        for j in range(1,10):\n",
    "            if j not in sudoku[i]:\n",
    "                sudoku[i][sudoku[i].index(0)] = j\n",
    "                break\n",
    "\n",
    "sudoku = [list(i[::]) for i in zip(*sudoku) ]\n",
    "sudoku.reverse()\n",
    "\n",
    "while 0 in sum(sudoku, []):\n",
    "    \n",
    "    for i in range(3,10,3):    \n",
    "        for k in range(3,10,3):\n",
    "            nums = list(range(1, 10))\n",
    "            for j in range(3):\n",
    "                if sudoku[i-3:i][j][k-3:k].count(0) == 1:\n",
    "                    i2, j2, k2, z= i, j, k, sudoku[i-3:i][j][k-3:k].index(0)\n",
    "                for l in sudoku[i-3:i][j][k-3:k]:\n",
    "                   if l in nums: \n",
    "                        nums.remove(l)\n",
    "            if len(nums) == 1:\n",
    "                sudoku[i2-3+j2][k2-3+z] = nums[0]\n",
    "            \n",
    "for i in sudoku:\n",
    "    print(*i)"
   ]
  },
  {
   "cell_type": "code",
   "execution_count": 176,
   "metadata": {},
   "outputs": [
    {
     "name": "stdout",
     "output_type": "stream",
     "text": [
      "1 3 5 4 6 9 2 7 8\n",
      "7 8 2 1 3 5 6 4 9\n",
      "4 6 9 2 7 8 1 3 5\n",
      "3 2 1 5 4 6 8 9 7\n",
      "8 7 4 9 1 3 5 2 6\n",
      "5 9 6 8 2 7 4 1 3\n",
      "9 1 7 6 5 2 3 8 4\n",
      "6 4 3 7 8 1 9 5 2\n",
      "2 5 8 3 9 4 7 6 1\n"
     ]
    }
   ],
   "source": [
    "import sys\n",
    "input = sys.stdin.readline\n",
    "sudoku = [list(map(int, input().split())) for _ in range(9)]\n",
    "\n",
    "for i in range(9):\n",
    "    if sudoku[i].count(0) == 1:\n",
    "        for j in range(1,10):\n",
    "            if j not in sudoku[i]:\n",
    "                sudoku[i][sudoku[i].index(0)] = j\n",
    "                break\n",
    "sudoku = [list(i[::-1]) for i in zip(*sudoku) ]\n",
    "\n",
    "for i in range(9):\n",
    "    if sudoku[i].count(0) == 1:\n",
    "        for j in range(1,10):\n",
    "            if j not in sudoku[i]:\n",
    "                sudoku[i][sudoku[i].index(0)] = j\n",
    "                break\n",
    "\n",
    "sudoku = [list(i[::]) for i in zip(*sudoku) ]\n",
    "sudoku.reverse()\n",
    "sudoku2 = [[] for _ in range(9)]\n",
    "ii =0\n",
    "for j in range(9):\n",
    "    if j == 3 or j == 6: ii += 3\n",
    "    for i in range(1,4):\n",
    "        sudoku2[i-1+ii] += sudoku[j][i*3-3: i*3]\n",
    "\n",
    "for i in range(9):\n",
    "    if sudoku2[i].count(0) == 1:\n",
    "        for j in range(1,10):\n",
    "            if j not in sudoku2[i]:\n",
    "                sudoku2[i][sudoku2[i].index(0)] = j\n",
    "                break\n",
    "\n",
    "sudoku3 = [list(i[::-1]) for i in zip(*sudoku3) ]\n",
    "\n",
    "for i in range(9):\n",
    "    if sudoku3[i].count(0) == 1:\n",
    "        for j in range(1,10):\n",
    "            if j not in sudoku3[i]:\n",
    "                sudoku3[i][sudoku3[i].index(0)] = j\n",
    "                break\n",
    "\n",
    "sudoku3 = [list(i[::]) for i in zip(*sudoku3) ]\n",
    "sudoku3.reverse()\n",
    "            \n",
    "\n",
    "sudoku3 = [[] for _ in range(9)]\n",
    "ii =0\n",
    "for j in range(9):\n",
    "    if j == 3 or j == 6: ii += 3\n",
    "    for i in range(1,4):\n",
    "        sudoku3[i-1+ii] += sudoku2[j][i*3-3: i*3]\n",
    "        \n",
    "for i in sudoku3:\n",
    "    print(*i)"
   ]
  },
  {
   "cell_type": "code",
   "execution_count": 151,
   "metadata": {},
   "outputs": [],
   "source": [
    "1 3 5 4 6 9 2 7 8\n",
    "7 8 2 1 3 5 6 4 9\n",
    "4 6 9 2 7 8 1 3 5\n",
    "3 2 1 5 4 6 8 9 7\n",
    "8 7 4 9 1 3 5 2 6\n",
    "5 9 6 8 2 7 4 1 3\n",
    "9 1 7 6 5 2 3 8 4\n",
    "6 4 3 7 8 1 9 5 2\n",
    "2 5 8 3 9 4 7 6 1"
   ]
  },
  {
   "cell_type": "code",
   "execution_count": 1,
   "metadata": {},
   "outputs": [
    {
     "name": "stdout",
     "output_type": "stream",
     "text": [
      "4 4 4\n",
      "6 6 6\n",
      "5 6 100\n"
     ]
    }
   ],
   "source": [
    "n, m = map(int, input().split())\n",
    "ar = []\n",
    "for i in range(n):\n",
    "    ar.append(list(map(int, input().split())))\n",
    "\n",
    "for i in range(n):\n",
    "    temp = list(map(int, input().split()))\n",
    "    for j in range(m):\n",
    "        ar[i][j] += temp[j]\n",
    "\n",
    "for i in ar:\n",
    "    print(*i)"
   ]
  },
  {
   "cell_type": "code",
   "execution_count": 16,
   "metadata": {},
   "outputs": [],
   "source": [
    "import sys, io\n",
    "    \n",
    "file = open(\"inputs.txt\", 'w')\n",
    "# 다음 데이터에 그대로 여러 데이터를 복사붙여넣기 하면 됨\n",
    "data = \"\"\"3\n",
    "3 7\n",
    "15 7\n",
    "5 2\n",
    "\"\"\"\n",
    "file.write(data)\n",
    "file.close()\n",
    "\n",
    "input_file = open(\"inputs.txt\", \"r\") \n",
    "sys.stdin = io.StringIO(input_file.read())"
   ]
  },
  {
   "cell_type": "code",
   "execution_count": 5,
   "metadata": {},
   "outputs": [
    {
     "name": "stdout",
     "output_type": "stream",
     "text": [
      "90\n",
      "5 7\n"
     ]
    }
   ],
   "source": [
    "import sys\n",
    "input =  sys.stdin.readline\n",
    "\n",
    "maxnum = 0\n",
    "maxindex = [0, 0]\n",
    "for i in range(9):\n",
    "    temp = list(map(int, input().split()))\n",
    "    if maxnum <= max(temp):\n",
    "        maxnum = max(temp)\n",
    "        maxindex = [i+1, temp.index(max(temp))+1]\n",
    "\n",
    "print(maxnum)\n",
    "print(*maxindex)"
   ]
  },
  {
   "cell_type": "code",
   "execution_count": 17,
   "metadata": {},
   "outputs": [
    {
     "name": "stdout",
     "output_type": "stream",
     "text": [
      "260\n"
     ]
    }
   ],
   "source": [
    "import sys\n",
    "input =  sys.stdin.readline\n",
    "\n",
    "canvas = [[0]*100 for _ in range(100)]\n",
    "n = int(input())\n",
    "for i in range(n):\n",
    "    a, b = map(int, input().split())\n",
    "\n",
    "    for i in range(a, a+10):\n",
    "        for j in range(b, b+10):\n",
    "            canvas[i][j] = 1\n",
    "\n",
    "print(sum(sum(canvas,[])))\n",
    "\n"
   ]
  },
  {
   "cell_type": "code",
   "execution_count": 15,
   "metadata": {},
   "outputs": [
    {
     "data": {
      "text/plain": [
       "0"
      ]
     },
     "execution_count": 15,
     "metadata": {},
     "output_type": "execute_result"
    }
   ],
   "source": []
  },
  {
   "cell_type": "code",
   "execution_count": null,
   "metadata": {},
   "outputs": [],
   "source": []
  }
 ],
 "metadata": {
  "kernelspec": {
   "display_name": "Python 3.10.4 64-bit",
   "language": "python",
   "name": "python3"
  },
  "language_info": {
   "codemirror_mode": {
    "name": "ipython",
    "version": 3
   },
   "file_extension": ".py",
   "mimetype": "text/x-python",
   "name": "python",
   "nbconvert_exporter": "python",
   "pygments_lexer": "ipython3",
   "version": "3.10.4"
  },
  "orig_nbformat": 4,
  "vscode": {
   "interpreter": {
    "hash": "928f821f6b86829143add00ce57faa48c1bec9eafb19fefb3216eee91b9a5dd3"
   }
  }
 },
 "nbformat": 4,
 "nbformat_minor": 2
}

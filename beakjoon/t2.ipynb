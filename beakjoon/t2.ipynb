{
 "cells": [
  {
   "cell_type": "code",
   "execution_count": 3,
   "metadata": {},
   "outputs": [],
   "source": [
    "n= int(input())\n",
    "dp = [[0]*n for _ in range(n)]\n",
    "for i in range(n):\n",
    "    \n"
   ]
  },
  {
   "cell_type": "code",
   "execution_count": 4,
   "metadata": {},
   "outputs": [
    {
     "data": {
      "text/plain": [
       "[[0, 0, 0, 0, 0, 0, 0, 0],\n",
       " [0, 0, 0, 0, 0, 0, 0, 0],\n",
       " [0, 0, 0, 0, 0, 0, 0, 0],\n",
       " [0, 0, 0, 0, 0, 0, 0, 0],\n",
       " [0, 0, 0, 0, 0, 0, 0, 0],\n",
       " [0, 0, 0, 0, 0, 0, 0, 0],\n",
       " [0, 0, 0, 0, 0, 0, 0, 0],\n",
       " [0, 0, 0, 0, 0, 0, 0, 0]]"
      ]
     },
     "execution_count": 4,
     "metadata": {},
     "output_type": "execute_result"
    }
   ],
   "source": []
  },
  {
   "cell_type": "code",
   "execution_count": 6,
   "metadata": {},
   "outputs": [
    {
     "name": "stdout",
     "output_type": "stream",
     "text": [
      "832040 28\n"
     ]
    }
   ],
   "source": [
    "n =  int(input())\n",
    "ans = [0,0]\n",
    "def fib(n):\n",
    "    if n == 1 or n == 2:\n",
    "        ans[0] += 1\n",
    "        return 1\n",
    "    else:\n",
    "        return fib(n-1) + fib(n-2)\n",
    "\n",
    "def fib2(n):\n",
    "    \n",
    "    f = [0] * (n+1)\n",
    "    f[1],f[2] = 1, 1\n",
    "\n",
    "    for i in range(3, n+1):\n",
    "        ans[1] += 1\n",
    "        f[i] = f[i-1] + f[i-2]\n",
    "    return f[n]\n",
    "\n",
    "fib(n)\n",
    "fib2(n)\n",
    "\n",
    "print(*ans)"
   ]
  },
  {
   "cell_type": "code",
   "execution_count": 7,
   "metadata": {},
   "outputs": [
    {
     "name": "stdout",
     "output_type": "stream",
     "text": [
      "w(15, 15, 15) = 32768\n",
      "w(50, 50, 50) = 1048576\n"
     ]
    }
   ],
   "source": [
    "def w(a,b,c):\n",
    "    \n",
    "    if a<=0 or b<=0 or c<=0:\n",
    "        return 1\n",
    "    elif a>20 or b>20 or c>20:\n",
    "        return w(20, 20, 20)\n",
    "    elif dp[a][b][c]:\n",
    "        return dp[a][b][c]\n",
    "\n",
    "    elif a<b and b<c:\n",
    "        dp[a][b][c] = w(a,b,c-1) + w(a,b-1,c-1) - w(a,b-1,c)\n",
    "        return dp[a][b][c]\n",
    "    else:\n",
    "        dp[a][b][c] = w(a-1, b, c) + w(a-1, b-1, c) + w(a-1, b, c-1) - w(a-1, b-1, c-1)        \n",
    "        return dp[a][b][c]\n",
    "        \n",
    "dp = [[[0]*21 for _ in range(21)] for _ in range(21)]\n",
    "\n",
    "while True:\n",
    "    a,b,c = map(int, input().split())\n",
    "    if a == -1 and b == -1 and  c == -1:\n",
    "        break\n",
    "    else:\n",
    "        print(f\"w({a}, {b}, {c}) = {w(a,b,c)}\")\n",
    "        \n",
    "    "
   ]
  },
  {
   "cell_type": "code",
   "execution_count": 28,
   "metadata": {},
   "outputs": [
    {
     "name": "stdout",
     "output_type": "stream",
     "text": [
      "1979\n"
     ]
    }
   ],
   "source": [
    "n = int(input())\n",
    "\n",
    "p = [0,1,2] + [0]*(n-2)\n",
    "for i in range(3, n+1):\n",
    "    p[i] = (p[i-1] + p[i-2]) %15746\n",
    "\n",
    "print(p[n])"
   ]
  },
  {
   "cell_type": "code",
   "execution_count": 21,
   "metadata": {},
   "outputs": [
    {
     "ename": "KeyboardInterrupt",
     "evalue": "",
     "output_type": "error",
     "traceback": [
      "\u001b[1;31m---------------------------------------------------------------------------\u001b[0m",
      "\u001b[1;31mKeyboardInterrupt\u001b[0m                         Traceback (most recent call last)",
      "\u001b[1;32mc:\\Users\\nofx2\\OneDrive\\바탕 화면\\python workspace\\baekjoon\\t2.ipynb 셀 6\u001b[0m in \u001b[0;36m<cell line: 10>\u001b[1;34m()\u001b[0m\n\u001b[0;32m      <a href='vscode-notebook-cell:/c%3A/Users/nofx2/OneDrive/%EB%B0%94%ED%83%95%20%ED%99%94%EB%A9%B4/python%20workspace/baekjoon/t2.ipynb#W6sZmlsZQ%3D%3D?line=6'>7</a>\u001b[0m         \u001b[39mreturn\u001b[39;00m \u001b[39m2\u001b[39m\n\u001b[0;32m      <a href='vscode-notebook-cell:/c%3A/Users/nofx2/OneDrive/%EB%B0%94%ED%83%95%20%ED%99%94%EB%A9%B4/python%20workspace/baekjoon/t2.ipynb#W6sZmlsZQ%3D%3D?line=7'>8</a>\u001b[0m     \u001b[39mreturn\u001b[39;00m p(n\u001b[39m-\u001b[39m\u001b[39m1\u001b[39m)\u001b[39m+\u001b[39mp(n\u001b[39m-\u001b[39m\u001b[39m2\u001b[39m)\n\u001b[1;32m---> <a href='vscode-notebook-cell:/c%3A/Users/nofx2/OneDrive/%EB%B0%94%ED%83%95%20%ED%99%94%EB%A9%B4/python%20workspace/baekjoon/t2.ipynb#W6sZmlsZQ%3D%3D?line=9'>10</a>\u001b[0m \u001b[39mprint\u001b[39m(p(n)\u001b[39m%\u001b[39m\u001b[39m15746\u001b[39m)\n",
      "\u001b[1;32mc:\\Users\\nofx2\\OneDrive\\바탕 화면\\python workspace\\baekjoon\\t2.ipynb 셀 6\u001b[0m in \u001b[0;36mp\u001b[1;34m(n)\u001b[0m\n\u001b[0;32m      <a href='vscode-notebook-cell:/c%3A/Users/nofx2/OneDrive/%EB%B0%94%ED%83%95%20%ED%99%94%EB%A9%B4/python%20workspace/baekjoon/t2.ipynb#W6sZmlsZQ%3D%3D?line=5'>6</a>\u001b[0m \u001b[39melif\u001b[39;00m n \u001b[39m==\u001b[39m\u001b[39m2\u001b[39m :\n\u001b[0;32m      <a href='vscode-notebook-cell:/c%3A/Users/nofx2/OneDrive/%EB%B0%94%ED%83%95%20%ED%99%94%EB%A9%B4/python%20workspace/baekjoon/t2.ipynb#W6sZmlsZQ%3D%3D?line=6'>7</a>\u001b[0m     \u001b[39mreturn\u001b[39;00m \u001b[39m2\u001b[39m\n\u001b[1;32m----> <a href='vscode-notebook-cell:/c%3A/Users/nofx2/OneDrive/%EB%B0%94%ED%83%95%20%ED%99%94%EB%A9%B4/python%20workspace/baekjoon/t2.ipynb#W6sZmlsZQ%3D%3D?line=7'>8</a>\u001b[0m \u001b[39mreturn\u001b[39;00m p(n\u001b[39m-\u001b[39;49m\u001b[39m1\u001b[39;49m)\u001b[39m+\u001b[39mp(n\u001b[39m-\u001b[39m\u001b[39m2\u001b[39m)\n",
      "\u001b[1;32mc:\\Users\\nofx2\\OneDrive\\바탕 화면\\python workspace\\baekjoon\\t2.ipynb 셀 6\u001b[0m in \u001b[0;36mp\u001b[1;34m(n)\u001b[0m\n\u001b[0;32m      <a href='vscode-notebook-cell:/c%3A/Users/nofx2/OneDrive/%EB%B0%94%ED%83%95%20%ED%99%94%EB%A9%B4/python%20workspace/baekjoon/t2.ipynb#W6sZmlsZQ%3D%3D?line=5'>6</a>\u001b[0m \u001b[39melif\u001b[39;00m n \u001b[39m==\u001b[39m\u001b[39m2\u001b[39m :\n\u001b[0;32m      <a href='vscode-notebook-cell:/c%3A/Users/nofx2/OneDrive/%EB%B0%94%ED%83%95%20%ED%99%94%EB%A9%B4/python%20workspace/baekjoon/t2.ipynb#W6sZmlsZQ%3D%3D?line=6'>7</a>\u001b[0m     \u001b[39mreturn\u001b[39;00m \u001b[39m2\u001b[39m\n\u001b[1;32m----> <a href='vscode-notebook-cell:/c%3A/Users/nofx2/OneDrive/%EB%B0%94%ED%83%95%20%ED%99%94%EB%A9%B4/python%20workspace/baekjoon/t2.ipynb#W6sZmlsZQ%3D%3D?line=7'>8</a>\u001b[0m \u001b[39mreturn\u001b[39;00m p(n\u001b[39m-\u001b[39;49m\u001b[39m1\u001b[39;49m)\u001b[39m+\u001b[39mp(n\u001b[39m-\u001b[39m\u001b[39m2\u001b[39m)\n",
      "    \u001b[1;31m[... skipping similar frames: p at line 8 (83 times)]\u001b[0m\n",
      "\u001b[1;32mc:\\Users\\nofx2\\OneDrive\\바탕 화면\\python workspace\\baekjoon\\t2.ipynb 셀 6\u001b[0m in \u001b[0;36mp\u001b[1;34m(n)\u001b[0m\n\u001b[0;32m      <a href='vscode-notebook-cell:/c%3A/Users/nofx2/OneDrive/%EB%B0%94%ED%83%95%20%ED%99%94%EB%A9%B4/python%20workspace/baekjoon/t2.ipynb#W6sZmlsZQ%3D%3D?line=5'>6</a>\u001b[0m \u001b[39melif\u001b[39;00m n \u001b[39m==\u001b[39m\u001b[39m2\u001b[39m :\n\u001b[0;32m      <a href='vscode-notebook-cell:/c%3A/Users/nofx2/OneDrive/%EB%B0%94%ED%83%95%20%ED%99%94%EB%A9%B4/python%20workspace/baekjoon/t2.ipynb#W6sZmlsZQ%3D%3D?line=6'>7</a>\u001b[0m     \u001b[39mreturn\u001b[39;00m \u001b[39m2\u001b[39m\n\u001b[1;32m----> <a href='vscode-notebook-cell:/c%3A/Users/nofx2/OneDrive/%EB%B0%94%ED%83%95%20%ED%99%94%EB%A9%B4/python%20workspace/baekjoon/t2.ipynb#W6sZmlsZQ%3D%3D?line=7'>8</a>\u001b[0m \u001b[39mreturn\u001b[39;00m p(n\u001b[39m-\u001b[39;49m\u001b[39m1\u001b[39;49m)\u001b[39m+\u001b[39mp(n\u001b[39m-\u001b[39m\u001b[39m2\u001b[39m)\n",
      "\u001b[1;31mKeyboardInterrupt\u001b[0m: "
     ]
    }
   ],
   "source": [
    "n = int(input())\n",
    "\n",
    "def p(n):\n",
    "    if n ==1:\n",
    "        return 1\n",
    "    elif n ==2 :\n",
    "        return 2\n",
    "    return p(n-1)+p(n-2)\n",
    "\n",
    "print(p(n)%15746)"
   ]
  },
  {
   "cell_type": "code",
   "execution_count": 51,
   "metadata": {},
   "outputs": [
    {
     "name": "stdout",
     "output_type": "stream",
     "text": [
      "33\n"
     ]
    }
   ],
   "source": [
    "n = int(input())\n",
    "nums = list(map(int, input().split()))\n",
    "ans = -1001\n",
    "\n",
    "for i in range(n):\n",
    "    temp = nums[i]\n",
    "    \n",
    "    for j in range(i+1, n):\n",
    "        ans = max(temp, ans)\n",
    "        temp += nums[j] \n",
    "\n",
    "print(ans)"
   ]
  },
  {
   "cell_type": "code",
   "execution_count": 55,
   "metadata": {},
   "outputs": [
    {
     "name": "stdout",
     "output_type": "stream",
     "text": [
      "-1\n"
     ]
    }
   ],
   "source": [
    "n = int(input())\n",
    "nums = [0] + list(map(int, input().split()))\n",
    "sums = [-1001]*(n+1)\n",
    "\n",
    "for i in range(1, n+1):\n",
    "    sums[i]= max(nums[i], nums[i]+sums[i-1])\n",
    "\n",
    "print(max(sums))"
   ]
  },
  {
   "cell_type": "code",
   "execution_count": 130,
   "metadata": {},
   "outputs": [],
   "source": [
    "import sys, io\n",
    "file = open(\"inputs.txt\", 'w')\n",
    "# 다음 데이터에 그대로 여러 데이터를 복사붙여넣기 하면 됨,\n",
    "data = \"\"\"3\n",
    "1 100 100\n",
    "100 100 100\n",
    "1 100 100\n",
    "\"\"\"\n",
    "file.write(data)\n",
    "file.close()\n",
    "input_file = open(\"inputs.txt\", \"r\")\n",
    "sys.stdin = io.StringIO(input_file.read())"
   ]
  },
  {
   "cell_type": "code",
   "execution_count": 131,
   "metadata": {},
   "outputs": [
    {
     "name": "stdout",
     "output_type": "stream",
     "text": [
      "102\n"
     ]
    }
   ],
   "source": [
    "import sys\n",
    "input = sys.stdin.readline\n",
    "\n",
    "n = int(input())\n",
    "costs = [list(map(int, input().split())) for _ in range(n)]\n",
    "\n",
    "for i in range(1,n):\n",
    "    for j in range(3):\n",
    "        costs[i][j] += min([costs[i-1][k] for k in range(3) if k != j])\n",
    "print(min(costs[-1]))\n",
    "\n",
    "    "
   ]
  },
  {
   "cell_type": "code",
   "execution_count": 129,
   "metadata": {},
   "outputs": [
    {
     "name": "stdout",
     "output_type": "stream",
     "text": [
      "[[30, 19, 5], [69, 82, 83], [97, 88, 166], [92, 168, 145], [235, 178, 176], [269, 208, 269]]\n"
     ]
    }
   ],
   "source": [
    "print(costs)"
   ]
  },
  {
   "cell_type": "code",
   "execution_count": 138,
   "metadata": {},
   "outputs": [],
   "source": [
    "import sys, io\n",
    "file = open(\"inputs.txt\", 'w')\n",
    "# 다음 데이터에 그대로 여러 데이터를 복사붙여넣기 하면 됨,\n",
    "data = \"\"\"5\n",
    "7\n",
    "3 8\n",
    "8 1 0\n",
    "2 7 4 4\n",
    "4 5 2 6 5\n",
    "\"\"\"\n",
    "file.write(data)\n",
    "file.close()\n",
    "input_file = open(\"inputs.txt\", \"r\")\n",
    "sys.stdin = io.StringIO(input_file.read())"
   ]
  },
  {
   "cell_type": "code",
   "execution_count": 139,
   "metadata": {},
   "outputs": [
    {
     "name": "stdout",
     "output_type": "stream",
     "text": [
      "30\n"
     ]
    }
   ],
   "source": [
    "import sys\n",
    "input = sys.stdin.readline\n",
    "\n",
    "n = int(input())\n",
    "\n",
    "dp = [[int(input())]]\n",
    "\n",
    "for i in range(n-1):\n",
    "    temp = list(map(int, input().split()))\n",
    "    for j in range(i+2):\n",
    "        if j == 0:\n",
    "            temp[j] += dp[-1][j]\n",
    "        elif j == i+1:\n",
    "            temp[j] += dp[-1][j-1]\n",
    "        else:\n",
    "            temp[j] += max(dp[-1][j], dp[-1][j-1])\n",
    "    dp.append(temp)\n",
    "print(max(dp[-1]))"
   ]
  },
  {
   "cell_type": "code",
   "execution_count": 13,
   "metadata": {},
   "outputs": [
    {
     "name": "stdout",
     "output_type": "stream",
     "text": [
      "75\n"
     ]
    }
   ],
   "source": [
    "n = int(input())\n",
    "steps = [0] + [int(input()) for _ in range(n)]\n",
    "sums = [0] * (n+1)\n",
    "if n == 1:\n",
    "    print(sum(steps))\n",
    "elif n ==2:\n",
    "    print(sum(steps))\n",
    "else:\n",
    "    sums[1], sums[2] = steps[1], steps[1]+steps[2]\n",
    "    for i in range(3, n+1):\n",
    "        sums[i] = max(steps[i]+sums[i-2], steps[i]+steps[i-1]+sums[i-3])\n",
    "    print(sums[-1])"
   ]
  },
  {
   "cell_type": "code",
   "execution_count": 11,
   "metadata": {},
   "outputs": [
    {
     "name": "stdout",
     "output_type": "stream",
     "text": [
      "[0, 10, 20, 15, 25, 10, 20]\n",
      "[0, 10, 30, 35, 55, 65, 75]\n"
     ]
    }
   ],
   "source": [
    "print(dp)\n",
    "print(sums)"
   ]
  },
  {
   "cell_type": "code",
   "execution_count": 18,
   "metadata": {},
   "outputs": [
    {
     "name": "stdout",
     "output_type": "stream",
     "text": [
      "5\n"
     ]
    }
   ],
   "source": [
    "n = int(input())\n",
    "cnt = 0\n",
    "\n",
    "def cal(x):\n",
    "\n",
    "    if not (x - 1) % 3 and (not (x-1)//3 % 3 or not (x-1)//3 % 2):\n",
    "        x -= 1\n",
    "\n",
    "    elif not x % 3 :\n",
    "        x //= 3\n",
    "\n",
    "    elif not x % 2 :\n",
    "        x //= 2\n",
    "\n",
    "    else:\n",
    "        x -= 1\n",
    "    return x\n",
    "\n",
    "while n != 1:\n",
    "    cnt += 1\n",
    "    n = cal(n)\n",
    "\n",
    "print(cnt)"
   ]
  },
  {
   "cell_type": "code",
   "execution_count": null,
   "metadata": {},
   "outputs": [],
   "source": [
    "17 16 8 4 2 1\n",
    "17 16 15 5 4 2 1\n",
    "22 11 10 9 3 1\n",
    "22 21 7 6  2 1\n",
    "23 22 11 10 9 3 1"
   ]
  },
  {
   "cell_type": "code",
   "execution_count": 26,
   "metadata": {},
   "outputs": [
    {
     "name": "stdout",
     "output_type": "stream",
     "text": [
      "3\n"
     ]
    }
   ],
   "source": [
    "n = int(input())\n",
    "\n",
    "dp = [0]* (n+1)\n",
    "\n",
    "for i in range(2, n+1):\n",
    "    dp[i] = dp[i-1]+1\n",
    "    if not i % 3:\n",
    "        dp[i] = min(dp[i//3] +1, dp[i])\n",
    "    if not i % 2:\n",
    "        dp[i] = min(dp[i//2] +1, dp[i])\n",
    "\n",
    "print(dp[n])"
   ]
  },
  {
   "cell_type": "code",
   "execution_count": 19,
   "metadata": {},
   "outputs": [
    {
     "name": "stdout",
     "output_type": "stream",
     "text": [
      "894685264\n"
     ]
    }
   ],
   "source": [
    "n = int(input())\n",
    "dp = [[0]*10 for _ in range(n+1)]\n",
    "dp[1] = [0,1,1,1,1,1,1,1,1,1]\n",
    "for i in range(2, n+1):\n",
    "    for j in range(10):\n",
    "        if j == 0:\n",
    "            dp[i][j] = dp[i-1][j+1]\n",
    "        elif j == 9:\n",
    "            dp[i][j] = dp[i-1][j-1]\n",
    "        else:    \n",
    "            dp[i][j] = (dp[i-1][j-1] + dp[i-1][j+1]) \n",
    "        \n",
    "print(sum(dp[n])%1000000000)"
   ]
  },
  {
   "cell_type": "code",
   "execution_count": 2,
   "metadata": {},
   "outputs": [
    {
     "name": "stdout",
     "output_type": "stream",
     "text": [
      "33\n"
     ]
    }
   ],
   "source": [
    "n = int(input())\n",
    "wines = [ int(input()) for _ in range(n)]\n",
    "dp = [0] * n\n",
    "\n",
    "if n == 1:\n",
    "    print(wines[0])\n",
    "elif n == 2:\n",
    "    print(wines[1]+wines[0])\n",
    "else:\n",
    "    dp[0], dp[1] = wines[0], wines[1]+wines[0]\n",
    "    for i in range(2,n):\n",
    "        dp[i] = max(dp[i-1], wines[i]+dp[i-2], wines[i]+wines[i-1]+dp[i-3])\n",
    "\n",
    "    print(dp[-1])"
   ]
  },
  {
   "cell_type": "code",
   "execution_count": 7,
   "metadata": {},
   "outputs": [
    {
     "name": "stdout",
     "output_type": "stream",
     "text": [
      "4\n"
     ]
    }
   ],
   "source": [
    "n = int(input())\n",
    "nums = list(map(int, input().split()))\n",
    "dp = [1]*n\n",
    "ans = 1\n",
    "for i in range(1, n):\n",
    "    for j in range(i):\n",
    "        if nums[i] > nums[j] and dp[i] <= dp[j]:\n",
    "            dp[i] = dp[j]+1\n",
    "            ans = max(ans, dp[i])\n",
    "print(ans)\n",
    "    "
   ]
  },
  {
   "cell_type": "code",
   "execution_count": 8,
   "metadata": {},
   "outputs": [
    {
     "data": {
      "text/plain": [
       "[1, 2, 1, 3, 2, 4]"
      ]
     },
     "execution_count": 8,
     "metadata": {},
     "output_type": "execute_result"
    }
   ],
   "source": [
    "dp"
   ]
  },
  {
   "cell_type": "code",
   "execution_count": 3,
   "metadata": {},
   "outputs": [
    {
     "name": "stdout",
     "output_type": "stream",
     "text": [
      "7\n"
     ]
    }
   ],
   "source": [
    "n = int(input())\n",
    "nums = list(map(int, input().split()))\n",
    "nums_re = nums[::-1]\n",
    "dp = [1]*n\n",
    "dp_re = [1]*n\n",
    "for i in range(1, n):\n",
    "    for j in range(i):\n",
    "        if nums[i] > nums[j] and dp[i] <= dp[j]:\n",
    "            dp[i] = dp[j]+1            \n",
    "        if nums_re[i] > nums_re[j] and dp_re[i] <= dp_re[j]:\n",
    "            dp_re[i] = dp_re[j]+1\n",
    "dp_re = dp_re[::-1]\n",
    "for i in range(n):\n",
    "    dp[i] = dp[i] + dp_re[i] - 1\n",
    "\n",
    "print(max(dp))\n"
   ]
  },
  {
   "cell_type": "code",
   "execution_count": 17,
   "metadata": {},
   "outputs": [],
   "source": [
    "n = int(input())\n",
    "lines = sorted([list(map(int, input().split())) for _ in range(n)])\n",
    "lines_re = lines[::-1]\n",
    "dp = [1]*n\n",
    "dp_re = [0]*n\n",
    "for i in range(1, n):\n",
    "    for j in range(i):\n",
    "        if lines[i][1] > lines[j][1] and dp[i] <= dp[j]:\n",
    "            dp[i] = dp[j] + 1 \n",
    "print(n-max(dp))\n",
    "            "
   ]
  },
  {
   "cell_type": "code",
   "execution_count": 18,
   "metadata": {},
   "outputs": [
    {
     "name": "stdout",
     "output_type": "stream",
     "text": [
      "[1, 1, 2, 1, 2, 3, 4, 5]\n"
     ]
    }
   ],
   "source": [
    "\n",
    "print(dp)"
   ]
  },
  {
   "cell_type": "code",
   "execution_count": 19,
   "metadata": {},
   "outputs": [
    {
     "name": "stdout",
     "output_type": "stream",
     "text": [
      "[1, 8]\n",
      "[2, 2]\n",
      "[3, 9]\n",
      "[4, 1]\n",
      "[6, 4]\n",
      "[7, 6]\n",
      "[9, 7]\n",
      "[10, 10]\n"
     ]
    }
   ],
   "source": [
    "for i in lines:\n",
    "    print(i)"
   ]
  },
  {
   "cell_type": "code",
   "execution_count": 30,
   "metadata": {},
   "outputs": [
    {
     "name": "stdout",
     "output_type": "stream",
     "text": [
      "4\n"
     ]
    }
   ],
   "source": [
    "word1 = str(input().strip())\n",
    "word2 = str(input().strip())\n",
    "dp = [0]* len(word2)\n",
    "\n",
    "for i in range(len(word1)):\n",
    "    cnt = 0\n",
    "    for j in range(len(word2)):\n",
    "        if cnt < dp[j]:\n",
    "            cnt = dp[j]\n",
    "        elif word1[i] == word2[j]:\n",
    "            dp[j] = cnt + 1\n",
    "        \n",
    "print(max(dp))"
   ]
  },
  {
   "cell_type": "code",
   "execution_count": 31,
   "metadata": {},
   "outputs": [
    {
     "data": {
      "text/plain": [
       "[1, 2, 3, 2, 3, 4]"
      ]
     },
     "execution_count": 31,
     "metadata": {},
     "output_type": "execute_result"
    }
   ],
   "source": [
    "dp"
   ]
  },
  {
   "cell_type": "code",
   "execution_count": 40,
   "metadata": {},
   "outputs": [],
   "source": [
    "import sys, io\n",
    "    \n",
    "file = open(\"inputs.txt\", 'w')\n",
    "# 다음 데이터에 그대로 여러 데이터를 복사붙여넣기 하면 됨\n",
    "data = \"\"\"5 5\n",
    "...##\n",
    "#....\n",
    "##...\n",
    ".....\n",
    "....#\n",
    "3\n",
    "5 1\n",
    "3 3\n",
    "4 3\n",
    "\"\"\"\n",
    "file.write(data)\n",
    "file.close()\n",
    "\n",
    "input_file = open(\"inputs.txt\", \"r\") \n",
    "sys.stdin = io.StringIO(input_file.read())"
   ]
  },
  {
   "cell_type": "code",
   "execution_count": 41,
   "metadata": {},
   "outputs": [
    {
     "name": "stdout",
     "output_type": "stream",
     "text": [
      "YES\n",
      "YES\n",
      "NO\n"
     ]
    }
   ],
   "source": [
    "import sys\n",
    "input = sys.stdin.readline\n",
    "\n",
    "n, m = map(int, input().split())\n",
    "land = []\n",
    "\n",
    "for i in range(n):\n",
    "    line = str(input().strip()).replace('.', '0').replace('#', '1')\n",
    "    land.append(list(map(int, line)))\n",
    "    \n",
    "q = int(input())\n",
    "for _ in range(q):\n",
    "    hope = list(map(int, input().split()))\n",
    "    temp2 = 0\n",
    "    \n",
    "    for i in range(n-(hope[0]-1)):\n",
    "        for j in range(m-(hope[1]-1)):\n",
    "            \n",
    "            if not sum(land[i][j:j+hope[1]]):\n",
    "                temp = 0\n",
    "                \n",
    "                for k in range(i+1, i+hope[0]):\n",
    "                    if sum(land[k][j:j+hope[1]]):\n",
    "                        temp += 1\n",
    "                        break\n",
    "            else:\n",
    "                temp = 1\n",
    "                \n",
    "            if not temp:\n",
    "                temp2 += 1\n",
    "                break\n",
    "    if temp2:\n",
    "        print('YES')\n",
    "    else:\n",
    "        print('NO')\n",
    "        \n",
    "\n",
    "\n"
   ]
  },
  {
   "cell_type": "code",
   "execution_count": null,
   "metadata": {},
   "outputs": [],
   "source": [
    "n, k = map(int, input().split())\n",
    "info = [list(map(int, input().split())) for i in range(n)]\n",
    "for i in range(n):\n",
    "    w, v = info[i][0], info[i][1]\n",
    "    for j in range(2):\n",
    "        if w+info[j] <= k:\n"
   ]
  },
  {
   "cell_type": "code",
   "execution_count": 14,
   "metadata": {},
   "outputs": [
    {
     "name": "stdout",
     "output_type": "stream",
     "text": [
      "1 2\n",
      "1 1\n",
      "1 1\n",
      "1 1\n",
      "1 1\n"
     ]
    }
   ],
   "source": [
    "def recursion(s, l, r, i):\n",
    "    if l >= r: return 1, i\n",
    "    elif s[l] != s[r]: return 0, i\n",
    "    else: \n",
    "        i +=1\n",
    "        return recursion(s, l+1, r-1, i)\n",
    "\n",
    "def isPalindrome(s):\n",
    "    i = 1\n",
    "    return recursion(s, 0, len(s)-1, i)\n",
    "\n",
    "n = int(input())\n",
    "for i in range(n):\n",
    "    print(*isPalindrome(input()))\n"
   ]
  },
  {
   "cell_type": "code",
   "execution_count": 33,
   "metadata": {},
   "outputs": [
    {
     "name": "stdout",
     "output_type": "stream",
     "text": [
      "3\n"
     ]
    }
   ],
   "source": [
    "total_arr = []\n",
    "def merge_sort(nums, total_arr):\n",
    "    if len(nums) < 2:\n",
    "        return nums, total_arr\n",
    "\n",
    "    # 문제에서 리스트가 홀수일때 00 000 이런 상태가 아닌 000 00로 되는 기준으로 맞추기 위함\n",
    "    if len(nums) % 2:\n",
    "        mid = len(nums) // 2 + 1\n",
    "    else:\n",
    "        mid = len(nums) // 2\n",
    "\n",
    "    low, total_arr = merge_sort(nums[:mid], total_arr)\n",
    "    high, total_arr = merge_sort(nums[mid:], total_arr)\n",
    "    \n",
    "    l = r = 0\n",
    "    new_arr = []\n",
    "    while l < len(low) and r < len(high):\n",
    "        if low[l] < high[r]:\n",
    "            new_arr.append(low[l])\n",
    "            total_arr.append(low[l])\n",
    "            l += 1\n",
    "        else:\n",
    "            new_arr.append(high[r])\n",
    "            total_arr.append(high[r])\n",
    "            r += 1\n",
    "            \n",
    "    for i in low[l:]:\n",
    "        new_arr.append(i)\n",
    "        total_arr.append(i)\n",
    "    \n",
    "    for i in high[r:]:\n",
    "        new_arr.append(i)\n",
    "        total_arr.append(i)\n",
    "    \n",
    "    return new_arr, total_arr\n",
    "\n",
    "_, k = map(int, input().split())\n",
    "nums = list(map(int, input().split()))\n",
    "\n",
    "nums, total_arr = merge_sort(nums, total_arr)\n",
    "\n",
    "if len(total_arr) < k:\n",
    "    print(-1)\n",
    "else:\n",
    "    print(total_arr[k-1])\n"
   ]
  },
  {
   "cell_type": "code",
   "execution_count": null,
   "metadata": {},
   "outputs": [],
   "source": [
    "\n",
    "dp = [[i for i in range(1, n+1)] for _ in range(n)]\n",
    "\n",
    "for i in range(n):\n",
    "    dp[i][:i+1] = [i+1] * (i+1)\n",
    "\n",
    "dp = sum(dp, [])\n",
    "\n",
    "answer = dp[left: right+1]\n"
   ]
  },
  {
   "cell_type": "code",
   "execution_count": null,
   "metadata": {},
   "outputs": [],
   "source": [
    "def solution(n, left, right):\n",
    "\n",
    "    answer = []\n",
    "    c = right - left\n",
    "    \n",
    "    left_d, left_rm = divmod(left, n)\n",
    "\n",
    "    right_d, right_rm = divmod(right, n)\n",
    "    \n",
    "    left_d += 1\n",
    "    right_d += 1\n",
    "    \n",
    "    while left_d < right_d+1:\n",
    "        for i in range(1, n+1):\n",
    "            if i < left_d:\n",
    "                answer.append(left_d)\n",
    "            else:\n",
    "                answer.append(i)\n",
    "        left_d += 1\n",
    "    \n",
    "    return answer[left_rm: left_rm+c+1]"
   ]
  },
  {
   "cell_type": "code",
   "execution_count": 35,
   "metadata": {},
   "outputs": [],
   "source": [
    "def solution(n, left, right):\n",
    "    answer = []\n",
    "\n",
    "    for i in range(left, right+1):\n",
    "        q, r = divmod(i, n)\n",
    "\n",
    "        answer.append(max(q, r) + 1)\n",
    "\n",
    "    return answer"
   ]
  },
  {
   "cell_type": "code",
   "execution_count": 36,
   "metadata": {},
   "outputs": [
    {
     "data": {
      "text/plain": [
       "[4, 4, 4]"
      ]
     },
     "execution_count": 36,
     "metadata": {},
     "output_type": "execute_result"
    }
   ],
   "source": [
    "solution(4, 11,13)"
   ]
  },
  {
   "cell_type": "code",
   "execution_count": 38,
   "metadata": {},
   "outputs": [
    {
     "data": {
      "text/plain": [
       "[1, 2, 3, 4, 2, 2, 3, 4, 3, 3, 3, 4, 4, 4, 4, 4]"
      ]
     },
     "execution_count": 38,
     "metadata": {},
     "output_type": "execute_result"
    }
   ],
   "source": [
    "def solution(n, left, right):\n",
    "    dp = [[i for i in range(1, n+1)] for _ in range(n)]\n",
    "\n",
    "    for i in range(n):\n",
    "        dp[i][:i+1] = [i+1] * (i+1)\n",
    "\n",
    "    dp = sum(dp, [])\n",
    "\n",
    "    answer = dp[left: right+1]\n",
    "    return dp"
   ]
  },
  {
   "cell_type": "code",
   "execution_count": 48,
   "metadata": {},
   "outputs": [],
   "source": [
    "def solution(rectangle, characterX, characterY, itemX, itemY):\n",
    "    \n",
    "    max_num = max(sum(rectangle, []))+2\n",
    "    dp = [[0]*max_num for _ in range(max_num)]\n",
    "    \n",
    "    for i in rectangle:\n",
    "        for j in range(i[1], i[3]+1):\n",
    "            dp[j][i[0]:i[2]+1] = [1] * (i[2]-i[0]+1)\n",
    "    x, y = 0, 0\n",
    "    \n",
    "    togo = [(characterY, characterX, 0)]\n",
    "    ways = [(0,1), (0,-1), (1,0),(-1,0)]\n",
    "    ways2 = [(0,1), (0,-1), (1,0),(-1,0),(1,1), (-1,-1), (1,-1),(-1,1)]\n",
    "    b =  set()\n",
    "    half_long = []\n",
    "    \n",
    "    while togo:\n",
    "        \n",
    "        y, x, long = togo.pop()\n",
    "        dp[y][x] += 1\n",
    "        \n",
    "        for dy, dx in ways:\n",
    "            ny, nx = y+dy, x+dx\n",
    "            if 0<=ny<max_num and 0<=nx<max_num and dp[ny][nx] == 1:\n",
    "                \n",
    "                if ny==itemY and nx==itemX:\n",
    "                    half_long.append(long+1)\n",
    "                    break\n",
    "                    \n",
    "                for ddy, ddx in ways2:\n",
    "                    nny, nnx = ny+ddy, nx+ddx\n",
    "                    if 0<=nny<max_num and 0<=nnx<max_num and dp[nny][nnx] == 0:\n",
    "                        togo.append((ny, nx, long+1))\n",
    "                        break\n",
    "                \n",
    "\n",
    "    print(half_long)\n",
    "    for i in reversed(dp):\n",
    "        print(i)\n",
    "    return min(half_long)"
   ]
  },
  {
   "cell_type": "code",
   "execution_count": 49,
   "metadata": {},
   "outputs": [
    {
     "name": "stdout",
     "output_type": "stream",
     "text": [
      "[19, 15]\n",
      "[0, 0, 0, 0, 0, 0, 0, 0, 0, 0, 0]\n",
      "[0, 0, 0, 0, 2, 2, 2, 0, 0, 0, 0]\n",
      "[0, 0, 2, 2, 2, 1, 2, 1, 2, 0, 0]\n",
      "[0, 0, 2, 1, 1, 1, 1, 1, 2, 0, 0]\n",
      "[0, 0, 2, 2, 1, 1, 2, 2, 2, 0, 0]\n",
      "[0, 0, 0, 2, 1, 1, 2, 0, 0, 0, 0]\n",
      "[0, 2, 2, 2, 1, 1, 2, 2, 0, 0, 0]\n",
      "[0, 2, 1, 1, 1, 1, 1, 2, 0, 0, 0]\n",
      "[0, 2, 1, 1, 1, 1, 1, 2, 0, 0, 0]\n",
      "[0, 2, 2, 2, 2, 2, 2, 2, 0, 0, 0]\n",
      "[0, 0, 0, 0, 0, 0, 0, 0, 0, 0, 0]\n"
     ]
    },
    {
     "data": {
      "text/plain": [
       "15"
      ]
     },
     "execution_count": 49,
     "metadata": {},
     "output_type": "execute_result"
    }
   ],
   "source": [
    "solution([[1,1,7,4],[3,2,5,5],[4,3,6,9],[2,6,8,8]],\t1,\t3,\t7\t,8)"
   ]
  },
  {
   "cell_type": "code",
   "execution_count": 58,
   "metadata": {},
   "outputs": [],
   "source": [
    "def solution(rectangle, characterX, characterY, itemX, itemY):\n",
    "    \n",
    "    max_num = max(sum(rectangle, []))*2+2\n",
    "    dp = [[0]*max_num for _ in range(max_num)]\n",
    "    \n",
    "    for i in rectangle:\n",
    "        for j in range(i[1]*2, (i[3]+1)*2):\n",
    "            dp[j][i[0]*2:(i[2]+1*2)] = [1] * (i[2]-i[0]+1)*2\n",
    "    x, y = 0, 0\n",
    "    \n",
    "    togo = [(characterY, characterX, 0)]\n",
    "    ways = [(0,1), (0,-1), (1,0),(-1,0)]\n",
    "    ways2 = [(0,1), (0,-1), (1,0),(-1,0),(1,1), (-1,-1), (1,-1),(-1,1)]\n",
    "    \n",
    "    half_long = []\n",
    "    \n",
    "    while togo:\n",
    "        \n",
    "        y, x, long = togo.pop()\n",
    "        dp[y][x] += 1\n",
    "        \n",
    "        for dy, dx in ways:\n",
    "            ny, nx = y+dy, x+dx\n",
    "            if 0<=ny<max_num and 0<=nx<max_num and dp[ny][nx] == 1:\n",
    "                \n",
    "                if ny==itemY and nx==itemX:\n",
    "                    half_long.append(long+1)\n",
    "                    break\n",
    "                    \n",
    "                for ddy, ddx in ways2:\n",
    "                    nny, nnx = ny+ddy, nx+ddx\n",
    "                    if 0<=nny<max_num and 0<=nnx<max_num and dp[nny][nnx] == 0:\n",
    "                        togo.append((ny, nx, long+1))\n",
    "                        break\n",
    "                \n",
    "\n",
    "    print(half_long)\n",
    "    for i in dp:\n",
    "        print(i)\n",
    "    return "
   ]
  },
  {
   "cell_type": "code",
   "execution_count": 59,
   "metadata": {},
   "outputs": [
    {
     "name": "stdout",
     "output_type": "stream",
     "text": [
      "[]\n",
      "[0, 0, 0, 0, 0, 0, 0, 0, 0, 0, 0, 0, 0, 0, 0, 0, 0, 0, 0, 0]\n",
      "[0, 0, 0, 0, 0, 0, 0, 0, 0, 0, 0, 0, 0, 0, 0, 0, 0, 0, 0, 0]\n",
      "[0, 0, 2, 2, 2, 2, 2, 2, 2, 2, 2, 2, 2, 2, 2, 2, 0, 0, 0, 0, 0, 0, 0, 0, 0, 0, 0]\n",
      "[0, 2, 2, 1, 1, 1, 1, 1, 1, 1, 1, 1, 1, 1, 1, 2, 0, 0, 0, 0, 0, 0, 0, 0, 0, 0, 0]\n",
      "[0, 0, 2, 1, 1, 1, 1, 1, 1, 1, 1, 1, 1, 1, 1, 2, 2, 2, 2, 2, 1, 0, 0, 0, 0, 0, 0, 0, 0, 0, 0, 0]\n",
      "[0, 0, 2, 1, 1, 1, 1, 1, 1, 1, 1, 1, 1, 1, 1, 1, 1, 1, 1, 1, 1, 0, 0, 0, 0, 0, 0, 0, 0, 0, 0, 0]\n",
      "[0, 0, 2, 1, 1, 1, 1, 1, 1, 1, 1, 1, 1, 1, 1, 1, 1, 1, 1, 1, 1, 1, 1, 1, 1, 1, 1, 0, 0, 0, 0, 0, 0, 0, 0, 0, 0, 0]\n",
      "[0, 0, 2, 1, 1, 1, 1, 1, 1, 1, 1, 1, 1, 1, 1, 1, 1, 1, 1, 1, 1, 1, 1, 1, 1, 1, 1, 0, 0, 0, 0, 0, 0, 0, 0, 0, 0, 0]\n",
      "[0, 0, 2, 1, 1, 1, 1, 1, 1, 1, 1, 1, 1, 1, 1, 1, 1, 1, 1, 1, 1, 1, 1, 1, 1, 1, 1, 0, 0, 0, 0, 0, 0, 0, 0, 0, 0, 0]\n",
      "[0, 0, 2, 2, 2, 2, 2, 1, 1, 1, 1, 1, 1, 1, 1, 1, 1, 1, 1, 1, 1, 1, 1, 1, 1, 1, 1, 0, 0, 0, 0, 0, 0, 0, 0, 0, 0, 0]\n",
      "[0, 0, 0, 0, 0, 0, 2, 1, 1, 1, 1, 1, 1, 1, 1, 1, 1, 1, 0, 0, 0, 0, 0, 0, 0, 0, 0, 0, 0, 0, 0]\n",
      "[0, 0, 0, 0, 0, 0, 2, 1, 1, 1, 1, 1, 1, 1, 1, 1, 1, 1, 0, 0, 0, 0, 0, 0, 0, 0, 0, 0, 0, 0, 0]\n",
      "[0, 0, 0, 0, 2, 2, 2, 1, 1, 1, 1, 1, 1, 1, 1, 1, 1, 1, 1, 1, 1, 1, 0, 0, 0, 0, 0, 0, 0, 0, 0, 0, 0, 0]\n",
      "[0, 0, 0, 0, 2, 1, 1, 1, 1, 1, 1, 1, 1, 1, 1, 1, 1, 1, 1, 1, 1, 1, 0, 0, 0, 0, 0, 0, 0, 0, 0, 0, 0, 0]\n",
      "[0, 0, 0, 0, 2, 1, 1, 1, 1, 1, 1, 1, 1, 1, 1, 1, 1, 1, 1, 1, 1, 1, 0, 0, 0, 0, 0, 0, 0, 0, 0, 0, 0, 0]\n",
      "[0, 0, 0, 0, 2, 1, 1, 1, 1, 1, 1, 1, 1, 1, 1, 1, 1, 1, 1, 1, 1, 1, 0, 0, 0, 0, 0, 0, 0, 0, 0, 0, 0, 0]\n",
      "[0, 0, 0, 0, 2, 1, 1, 1, 1, 1, 1, 1, 1, 1, 1, 1, 1, 1, 1, 1, 1, 1, 0, 0, 0, 0, 0, 0, 0, 0, 0, 0, 0, 0]\n",
      "[0, 0, 0, 0, 2, 2, 2, 2, 2, 1, 1, 1, 1, 1, 1, 1, 1, 1, 1, 1, 1, 1, 0, 0, 0, 0, 0, 0, 0, 0, 0, 0, 0, 0]\n",
      "[0, 0, 0, 0, 0, 0, 0, 0, 2, 1, 1, 1, 1, 1, 0, 0, 0, 0, 0, 0, 0, 0, 0, 0, 0, 0]\n",
      "[0, 0, 0, 0, 0, 0, 0, 0, 2, 1, 1, 1, 1, 1, 0, 0, 0, 0, 0, 0, 0, 0, 0, 0, 0, 0]\n"
     ]
    }
   ],
   "source": [
    "solution([[1,1,7,4],[3,2,5,5],[4,3,6,9],[2,6,8,8]],\t1,\t3,\t7\t,8)"
   ]
  },
  {
   "cell_type": "code",
   "execution_count": null,
   "metadata": {},
   "outputs": [],
   "source": [
    "import collections\n",
    "\n",
    "def solution(n, k, enemy):\n",
    "    answer = 0\n",
    "    counter = collections.defaultdict(int)\n",
    "    heal = 0\n",
    "    for i, v in enumerate(enemy):\n",
    "        \n",
    "        n -= v\n",
    "        counter[v] += 1\n",
    "        heal = max(heal, v)\n",
    "        \n",
    "        while n <= 0 and k > 0:\n",
    "            \n",
    "            if heal == 0 :\n",
    "                heal = max(counter)    \n",
    "            \n",
    "            counter[heal] -= 1   \n",
    "            k -= 1\n",
    "            n += heal\n",
    "            \n",
    "            if counter[heal] == 0:\n",
    "                counter.pop(heal)\n",
    "                heal = 0\n",
    "            \n",
    "        if n < 0:\n",
    "            answer = i\n",
    "            break\n",
    "            \n",
    "    if n > 0:\n",
    "        answer = len(enemy)\n",
    "        \n",
    "    return answer"
   ]
  },
  {
   "cell_type": "code",
   "execution_count": 60,
   "metadata": {},
   "outputs": [
    {
     "name": "stdout",
     "output_type": "stream",
     "text": [
      "3\n",
      "2\n"
     ]
    }
   ],
   "source": [
    "for i in range(3, 1, -1):\n",
    "    print(i)"
   ]
  },
  {
   "cell_type": "code",
   "execution_count": 127,
   "metadata": {},
   "outputs": [
    {
     "data": {
      "text/plain": [
       "1.0"
      ]
     },
     "execution_count": 127,
     "metadata": {},
     "output_type": "execute_result"
    }
   ],
   "source": [
    "a = 5\n",
    "k = 1\n",
    "i = 5\n",
    "(25 -i**2)**.5 //k+1"
   ]
  },
  {
   "cell_type": "code",
   "execution_count": 128,
   "metadata": {},
   "outputs": [
    {
     "name": "stdout",
     "output_type": "stream",
     "text": [
      "64.0\n",
      "32.0\n",
      "16.0\n",
      "8.0\n",
      "4.0\n",
      "2.0\n"
     ]
    }
   ],
   "source": [
    "p  =128\n",
    "while True:\n",
    "    p /=2\n",
    "    print(p)\n",
    "    if p==2:\n",
    "        break"
   ]
  },
  {
   "cell_type": "code",
   "execution_count": 151,
   "metadata": {},
   "outputs": [
    {
     "data": {
      "text/plain": [
       "[0, 0, 1, 1, 0, 1, 0, 1, 0, 0, 0, 1, 0, 1, 0, 0, 0, 1, 0, 1, 0]"
      ]
     },
     "execution_count": 151,
     "metadata": {},
     "output_type": "execute_result"
    }
   ],
   "source": [
    "a=1\n",
    "b=20\n",
    "\n",
    "def primerange(b):\n",
    "    pl = [0,0]+[1]*(b-1)\n",
    "    for i in range(2, int((b**.5)+2)):\n",
    "        for j in range(i*2, b+1, i):    \n",
    "            pl[j] =  0\n",
    "    return pl\n",
    "\n",
    "primerange(b)"
   ]
  },
  {
   "cell_type": "code",
   "execution_count": null,
   "metadata": {},
   "outputs": [],
   "source": [
    "8\n",
    "1 2 4 8\n",
    "12\n",
    "1 2 3 6 12 "
   ]
  },
  {
   "cell_type": "code",
   "execution_count": 165,
   "metadata": {},
   "outputs": [
    {
     "name": "stdout",
     "output_type": "stream",
     "text": [
      "효율적인 소인수분해 결과 [2, 2, 3, 3]\n"
     ]
    }
   ],
   "source": [
    "# 효율적인 소인수 분해\n",
    "def factorize2(n):\n",
    "    factor = 2 #시작 소수 지정\n",
    "    factors = []\n",
    "    while (factor**2 <= n):  # 에라토스테네스를 떠올리며,, 즉 루트n까지 실행\n",
    "        while (n % factor == 0):  # 소수로 나누어 떨어지면(= 즉 약수면)\n",
    "            factors.append(factor)  # 리스트에 추가\n",
    "            n = n // factor  # n을 몫으로 변경\n",
    "        factor += 1\n",
    "    if n > 1 : # 1보다 크고 factor**2(4)보다 작은 경우 n은 소수임으로 append -> 2,3 경우\n",
    "        factors.append(n)\n",
    "    return factors\n",
    "\n",
    "print('효율적인 소인수분해 결과', factorize2(36))\n"
   ]
  },
  {
   "cell_type": "code",
   "execution_count": null,
   "metadata": {},
   "outputs": [],
   "source": [
    "1 2 3 4 6 9 12 18 36"
   ]
  }
 ],
 "metadata": {
  "kernelspec": {
   "display_name": "hong",
   "language": "python",
   "name": "python3"
  },
  "language_info": {
   "codemirror_mode": {
    "name": "ipython",
    "version": 3
   },
   "file_extension": ".py",
   "mimetype": "text/x-python",
   "name": "python",
   "nbconvert_exporter": "python",
   "pygments_lexer": "ipython3",
   "version": "3.9.12"
  },
  "orig_nbformat": 4,
  "vscode": {
   "interpreter": {
    "hash": "996becb82b76d6125b53ee3d40844ebd88897a7912ca24d4d0461d0f4ffb73a8"
   }
  }
 },
 "nbformat": 4,
 "nbformat_minor": 2
}

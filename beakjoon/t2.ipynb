{
 "cells": [
  {
   "cell_type": "code",
   "execution_count": 3,
   "metadata": {},
   "outputs": [],
   "source": [
    "n= int(input())\n",
    "dp = [[0]*n for _ in range(n)]\n",
    "for i in range(n):\n",
    "    \n"
   ]
  },
  {
   "cell_type": "code",
   "execution_count": 4,
   "metadata": {},
   "outputs": [
    {
     "data": {
      "text/plain": [
       "[[0, 0, 0, 0, 0, 0, 0, 0],\n",
       " [0, 0, 0, 0, 0, 0, 0, 0],\n",
       " [0, 0, 0, 0, 0, 0, 0, 0],\n",
       " [0, 0, 0, 0, 0, 0, 0, 0],\n",
       " [0, 0, 0, 0, 0, 0, 0, 0],\n",
       " [0, 0, 0, 0, 0, 0, 0, 0],\n",
       " [0, 0, 0, 0, 0, 0, 0, 0],\n",
       " [0, 0, 0, 0, 0, 0, 0, 0]]"
      ]
     },
     "execution_count": 4,
     "metadata": {},
     "output_type": "execute_result"
    }
   ],
   "source": []
  },
  {
   "cell_type": "code",
   "execution_count": 6,
   "metadata": {},
   "outputs": [
    {
     "name": "stdout",
     "output_type": "stream",
     "text": [
      "832040 28\n"
     ]
    }
   ],
   "source": [
    "n =  int(input())\n",
    "ans = [0,0]\n",
    "def fib(n):\n",
    "    if n == 1 or n == 2:\n",
    "        ans[0] += 1\n",
    "        return 1\n",
    "    else:\n",
    "        return fib(n-1) + fib(n-2)\n",
    "\n",
    "def fib2(n):\n",
    "    \n",
    "    f = [0] * (n+1)\n",
    "    f[1],f[2] = 1, 1\n",
    "\n",
    "    for i in range(3, n+1):\n",
    "        ans[1] += 1\n",
    "        f[i] = f[i-1] + f[i-2]\n",
    "    return f[n]\n",
    "\n",
    "fib(n)\n",
    "fib2(n)\n",
    "\n",
    "print(*ans)"
   ]
  },
  {
   "cell_type": "code",
   "execution_count": 7,
   "metadata": {},
   "outputs": [
    {
     "name": "stdout",
     "output_type": "stream",
     "text": [
      "w(15, 15, 15) = 32768\n",
      "w(50, 50, 50) = 1048576\n"
     ]
    }
   ],
   "source": [
    "def w(a,b,c):\n",
    "    \n",
    "    if a<=0 or b<=0 or c<=0:\n",
    "        return 1\n",
    "    elif a>20 or b>20 or c>20:\n",
    "        return w(20, 20, 20)\n",
    "    elif dp[a][b][c]:\n",
    "        return dp[a][b][c]\n",
    "\n",
    "    elif a<b and b<c:\n",
    "        dp[a][b][c] = w(a,b,c-1) + w(a,b-1,c-1) - w(a,b-1,c)\n",
    "        return dp[a][b][c]\n",
    "    else:\n",
    "        dp[a][b][c] = w(a-1, b, c) + w(a-1, b-1, c) + w(a-1, b, c-1) - w(a-1, b-1, c-1)        \n",
    "        return dp[a][b][c]\n",
    "        \n",
    "dp = [[[0]*21 for _ in range(21)] for _ in range(21)]\n",
    "\n",
    "while True:\n",
    "    a,b,c = map(int, input().split())\n",
    "    if a == -1 and b == -1 and  c == -1:\n",
    "        break\n",
    "    else:\n",
    "        print(f\"w({a}, {b}, {c}) = {w(a,b,c)}\")\n",
    "        \n",
    "    "
   ]
  },
  {
   "cell_type": "code",
   "execution_count": 28,
   "metadata": {},
   "outputs": [
    {
     "name": "stdout",
     "output_type": "stream",
     "text": [
      "1979\n"
     ]
    }
   ],
   "source": [
    "n = int(input())\n",
    "\n",
    "p = [0,1,2] + [0]*(n-2)\n",
    "for i in range(3, n+1):\n",
    "    p[i] = (p[i-1] + p[i-2]) %15746\n",
    "\n",
    "print(p[n])"
   ]
  },
  {
   "cell_type": "code",
   "execution_count": 21,
   "metadata": {},
   "outputs": [
    {
     "ename": "KeyboardInterrupt",
     "evalue": "",
     "output_type": "error",
     "traceback": [
      "\u001b[1;31m---------------------------------------------------------------------------\u001b[0m",
      "\u001b[1;31mKeyboardInterrupt\u001b[0m                         Traceback (most recent call last)",
      "\u001b[1;32mc:\\Users\\nofx2\\OneDrive\\바탕 화면\\python workspace\\baekjoon\\t2.ipynb 셀 6\u001b[0m in \u001b[0;36m<cell line: 10>\u001b[1;34m()\u001b[0m\n\u001b[0;32m      <a href='vscode-notebook-cell:/c%3A/Users/nofx2/OneDrive/%EB%B0%94%ED%83%95%20%ED%99%94%EB%A9%B4/python%20workspace/baekjoon/t2.ipynb#W6sZmlsZQ%3D%3D?line=6'>7</a>\u001b[0m         \u001b[39mreturn\u001b[39;00m \u001b[39m2\u001b[39m\n\u001b[0;32m      <a href='vscode-notebook-cell:/c%3A/Users/nofx2/OneDrive/%EB%B0%94%ED%83%95%20%ED%99%94%EB%A9%B4/python%20workspace/baekjoon/t2.ipynb#W6sZmlsZQ%3D%3D?line=7'>8</a>\u001b[0m     \u001b[39mreturn\u001b[39;00m p(n\u001b[39m-\u001b[39m\u001b[39m1\u001b[39m)\u001b[39m+\u001b[39mp(n\u001b[39m-\u001b[39m\u001b[39m2\u001b[39m)\n\u001b[1;32m---> <a href='vscode-notebook-cell:/c%3A/Users/nofx2/OneDrive/%EB%B0%94%ED%83%95%20%ED%99%94%EB%A9%B4/python%20workspace/baekjoon/t2.ipynb#W6sZmlsZQ%3D%3D?line=9'>10</a>\u001b[0m \u001b[39mprint\u001b[39m(p(n)\u001b[39m%\u001b[39m\u001b[39m15746\u001b[39m)\n",
      "\u001b[1;32mc:\\Users\\nofx2\\OneDrive\\바탕 화면\\python workspace\\baekjoon\\t2.ipynb 셀 6\u001b[0m in \u001b[0;36mp\u001b[1;34m(n)\u001b[0m\n\u001b[0;32m      <a href='vscode-notebook-cell:/c%3A/Users/nofx2/OneDrive/%EB%B0%94%ED%83%95%20%ED%99%94%EB%A9%B4/python%20workspace/baekjoon/t2.ipynb#W6sZmlsZQ%3D%3D?line=5'>6</a>\u001b[0m \u001b[39melif\u001b[39;00m n \u001b[39m==\u001b[39m\u001b[39m2\u001b[39m :\n\u001b[0;32m      <a href='vscode-notebook-cell:/c%3A/Users/nofx2/OneDrive/%EB%B0%94%ED%83%95%20%ED%99%94%EB%A9%B4/python%20workspace/baekjoon/t2.ipynb#W6sZmlsZQ%3D%3D?line=6'>7</a>\u001b[0m     \u001b[39mreturn\u001b[39;00m \u001b[39m2\u001b[39m\n\u001b[1;32m----> <a href='vscode-notebook-cell:/c%3A/Users/nofx2/OneDrive/%EB%B0%94%ED%83%95%20%ED%99%94%EB%A9%B4/python%20workspace/baekjoon/t2.ipynb#W6sZmlsZQ%3D%3D?line=7'>8</a>\u001b[0m \u001b[39mreturn\u001b[39;00m p(n\u001b[39m-\u001b[39;49m\u001b[39m1\u001b[39;49m)\u001b[39m+\u001b[39mp(n\u001b[39m-\u001b[39m\u001b[39m2\u001b[39m)\n",
      "\u001b[1;32mc:\\Users\\nofx2\\OneDrive\\바탕 화면\\python workspace\\baekjoon\\t2.ipynb 셀 6\u001b[0m in \u001b[0;36mp\u001b[1;34m(n)\u001b[0m\n\u001b[0;32m      <a href='vscode-notebook-cell:/c%3A/Users/nofx2/OneDrive/%EB%B0%94%ED%83%95%20%ED%99%94%EB%A9%B4/python%20workspace/baekjoon/t2.ipynb#W6sZmlsZQ%3D%3D?line=5'>6</a>\u001b[0m \u001b[39melif\u001b[39;00m n \u001b[39m==\u001b[39m\u001b[39m2\u001b[39m :\n\u001b[0;32m      <a href='vscode-notebook-cell:/c%3A/Users/nofx2/OneDrive/%EB%B0%94%ED%83%95%20%ED%99%94%EB%A9%B4/python%20workspace/baekjoon/t2.ipynb#W6sZmlsZQ%3D%3D?line=6'>7</a>\u001b[0m     \u001b[39mreturn\u001b[39;00m \u001b[39m2\u001b[39m\n\u001b[1;32m----> <a href='vscode-notebook-cell:/c%3A/Users/nofx2/OneDrive/%EB%B0%94%ED%83%95%20%ED%99%94%EB%A9%B4/python%20workspace/baekjoon/t2.ipynb#W6sZmlsZQ%3D%3D?line=7'>8</a>\u001b[0m \u001b[39mreturn\u001b[39;00m p(n\u001b[39m-\u001b[39;49m\u001b[39m1\u001b[39;49m)\u001b[39m+\u001b[39mp(n\u001b[39m-\u001b[39m\u001b[39m2\u001b[39m)\n",
      "    \u001b[1;31m[... skipping similar frames: p at line 8 (83 times)]\u001b[0m\n",
      "\u001b[1;32mc:\\Users\\nofx2\\OneDrive\\바탕 화면\\python workspace\\baekjoon\\t2.ipynb 셀 6\u001b[0m in \u001b[0;36mp\u001b[1;34m(n)\u001b[0m\n\u001b[0;32m      <a href='vscode-notebook-cell:/c%3A/Users/nofx2/OneDrive/%EB%B0%94%ED%83%95%20%ED%99%94%EB%A9%B4/python%20workspace/baekjoon/t2.ipynb#W6sZmlsZQ%3D%3D?line=5'>6</a>\u001b[0m \u001b[39melif\u001b[39;00m n \u001b[39m==\u001b[39m\u001b[39m2\u001b[39m :\n\u001b[0;32m      <a href='vscode-notebook-cell:/c%3A/Users/nofx2/OneDrive/%EB%B0%94%ED%83%95%20%ED%99%94%EB%A9%B4/python%20workspace/baekjoon/t2.ipynb#W6sZmlsZQ%3D%3D?line=6'>7</a>\u001b[0m     \u001b[39mreturn\u001b[39;00m \u001b[39m2\u001b[39m\n\u001b[1;32m----> <a href='vscode-notebook-cell:/c%3A/Users/nofx2/OneDrive/%EB%B0%94%ED%83%95%20%ED%99%94%EB%A9%B4/python%20workspace/baekjoon/t2.ipynb#W6sZmlsZQ%3D%3D?line=7'>8</a>\u001b[0m \u001b[39mreturn\u001b[39;00m p(n\u001b[39m-\u001b[39;49m\u001b[39m1\u001b[39;49m)\u001b[39m+\u001b[39mp(n\u001b[39m-\u001b[39m\u001b[39m2\u001b[39m)\n",
      "\u001b[1;31mKeyboardInterrupt\u001b[0m: "
     ]
    }
   ],
   "source": [
    "n = int(input())\n",
    "\n",
    "def p(n):\n",
    "    if n ==1:\n",
    "        return 1\n",
    "    elif n ==2 :\n",
    "        return 2\n",
    "    return p(n-1)+p(n-2)\n",
    "\n",
    "print(p(n)%15746)"
   ]
  },
  {
   "cell_type": "code",
   "execution_count": 51,
   "metadata": {},
   "outputs": [
    {
     "name": "stdout",
     "output_type": "stream",
     "text": [
      "33\n"
     ]
    }
   ],
   "source": [
    "n = int(input())\n",
    "nums = list(map(int, input().split()))\n",
    "ans = -1001\n",
    "\n",
    "for i in range(n):\n",
    "    temp = nums[i]\n",
    "    \n",
    "    for j in range(i+1, n):\n",
    "        ans = max(temp, ans)\n",
    "        temp += nums[j] \n",
    "\n",
    "print(ans)"
   ]
  },
  {
   "cell_type": "code",
   "execution_count": 55,
   "metadata": {},
   "outputs": [
    {
     "name": "stdout",
     "output_type": "stream",
     "text": [
      "-1\n"
     ]
    }
   ],
   "source": [
    "n = int(input())\n",
    "nums = [0] + list(map(int, input().split()))\n",
    "sums = [-1001]*(n+1)\n",
    "\n",
    "for i in range(1, n+1):\n",
    "    sums[i]= max(nums[i], nums[i]+sums[i-1])\n",
    "\n",
    "print(max(sums))"
   ]
  },
  {
   "cell_type": "code",
   "execution_count": 130,
   "metadata": {},
   "outputs": [],
   "source": [
    "import sys, io\n",
    "file = open(\"inputs.txt\", 'w')\n",
    "# 다음 데이터에 그대로 여러 데이터를 복사붙여넣기 하면 됨,\n",
    "data = \"\"\"3\n",
    "1 100 100\n",
    "100 100 100\n",
    "1 100 100\n",
    "\"\"\"\n",
    "file.write(data)\n",
    "file.close()\n",
    "input_file = open(\"inputs.txt\", \"r\")\n",
    "sys.stdin = io.StringIO(input_file.read())"
   ]
  },
  {
   "cell_type": "code",
   "execution_count": 131,
   "metadata": {},
   "outputs": [
    {
     "name": "stdout",
     "output_type": "stream",
     "text": [
      "102\n"
     ]
    }
   ],
   "source": [
    "import sys\n",
    "input = sys.stdin.readline\n",
    "\n",
    "n = int(input())\n",
    "costs = [list(map(int, input().split())) for _ in range(n)]\n",
    "\n",
    "for i in range(1,n):\n",
    "    for j in range(3):\n",
    "        costs[i][j] += min([costs[i-1][k] for k in range(3) if k != j])\n",
    "print(min(costs[-1]))\n",
    "\n",
    "    "
   ]
  },
  {
   "cell_type": "code",
   "execution_count": 129,
   "metadata": {},
   "outputs": [
    {
     "name": "stdout",
     "output_type": "stream",
     "text": [
      "[[30, 19, 5], [69, 82, 83], [97, 88, 166], [92, 168, 145], [235, 178, 176], [269, 208, 269]]\n"
     ]
    }
   ],
   "source": [
    "print(costs)"
   ]
  },
  {
   "cell_type": "code",
   "execution_count": 138,
   "metadata": {},
   "outputs": [],
   "source": [
    "import sys, io\n",
    "file = open(\"inputs.txt\", 'w')\n",
    "# 다음 데이터에 그대로 여러 데이터를 복사붙여넣기 하면 됨,\n",
    "data = \"\"\"5\n",
    "7\n",
    "3 8\n",
    "8 1 0\n",
    "2 7 4 4\n",
    "4 5 2 6 5\n",
    "\"\"\"\n",
    "file.write(data)\n",
    "file.close()\n",
    "input_file = open(\"inputs.txt\", \"r\")\n",
    "sys.stdin = io.StringIO(input_file.read())"
   ]
  },
  {
   "cell_type": "code",
   "execution_count": 139,
   "metadata": {},
   "outputs": [
    {
     "name": "stdout",
     "output_type": "stream",
     "text": [
      "30\n"
     ]
    }
   ],
   "source": [
    "import sys\n",
    "input = sys.stdin.readline\n",
    "\n",
    "n = int(input())\n",
    "\n",
    "dp = [[int(input())]]\n",
    "\n",
    "for i in range(n-1):\n",
    "    temp = list(map(int, input().split()))\n",
    "    for j in range(i+2):\n",
    "        if j == 0:\n",
    "            temp[j] += dp[-1][j]\n",
    "        elif j == i+1:\n",
    "            temp[j] += dp[-1][j-1]\n",
    "        else:\n",
    "            temp[j] += max(dp[-1][j], dp[-1][j-1])\n",
    "    dp.append(temp)\n",
    "print(max(dp[-1]))"
   ]
  },
  {
   "cell_type": "code",
   "execution_count": 13,
   "metadata": {},
   "outputs": [
    {
     "name": "stdout",
     "output_type": "stream",
     "text": [
      "75\n"
     ]
    }
   ],
   "source": [
    "n = int(input())\n",
    "steps = [0] + [int(input()) for _ in range(n)]\n",
    "sums = [0] * (n+1)\n",
    "if n == 1:\n",
    "    print(sum(steps))\n",
    "elif n ==2:\n",
    "    print(sum(steps))\n",
    "else:\n",
    "    sums[1], sums[2] = steps[1], steps[1]+steps[2]\n",
    "    for i in range(3, n+1):\n",
    "        sums[i] = max(steps[i]+sums[i-2], steps[i]+steps[i-1]+sums[i-3])\n",
    "    print(sums[-1])"
   ]
  },
  {
   "cell_type": "code",
   "execution_count": 11,
   "metadata": {},
   "outputs": [
    {
     "name": "stdout",
     "output_type": "stream",
     "text": [
      "[0, 10, 20, 15, 25, 10, 20]\n",
      "[0, 10, 30, 35, 55, 65, 75]\n"
     ]
    }
   ],
   "source": [
    "print(dp)\n",
    "print(sums)"
   ]
  },
  {
   "cell_type": "code",
   "execution_count": 18,
   "metadata": {},
   "outputs": [
    {
     "name": "stdout",
     "output_type": "stream",
     "text": [
      "5\n"
     ]
    }
   ],
   "source": [
    "n = int(input())\n",
    "cnt = 0\n",
    "\n",
    "def cal(x):\n",
    "\n",
    "    if not (x - 1) % 3 and (not (x-1)//3 % 3 or not (x-1)//3 % 2):\n",
    "        x -= 1\n",
    "\n",
    "    elif not x % 3 :\n",
    "        x //= 3\n",
    "\n",
    "    elif not x % 2 :\n",
    "        x //= 2\n",
    "\n",
    "    else:\n",
    "        x -= 1\n",
    "    return x\n",
    "\n",
    "while n != 1:\n",
    "    cnt += 1\n",
    "    n = cal(n)\n",
    "\n",
    "print(cnt)"
   ]
  },
  {
   "cell_type": "code",
   "execution_count": null,
   "metadata": {},
   "outputs": [],
   "source": [
    "17 16 8 4 2 1\n",
    "17 16 15 5 4 2 1\n",
    "22 11 10 9 3 1\n",
    "22 21 7 6  2 1\n",
    "23 22 11 10 9 3 1"
   ]
  },
  {
   "cell_type": "code",
   "execution_count": 26,
   "metadata": {},
   "outputs": [
    {
     "name": "stdout",
     "output_type": "stream",
     "text": [
      "3\n"
     ]
    }
   ],
   "source": [
    "n = int(input())\n",
    "\n",
    "dp = [0]* (n+1)\n",
    "\n",
    "for i in range(2, n+1):\n",
    "    dp[i] = dp[i-1]+1\n",
    "    if not i % 3:\n",
    "        dp[i] = min(dp[i//3] +1, dp[i])\n",
    "    if not i % 2:\n",
    "        dp[i] = min(dp[i//2] +1, dp[i])\n",
    "\n",
    "print(dp[n])"
   ]
  },
  {
   "cell_type": "code",
   "execution_count": 19,
   "metadata": {},
   "outputs": [
    {
     "name": "stdout",
     "output_type": "stream",
     "text": [
      "894685264\n"
     ]
    }
   ],
   "source": [
    "n = int(input())\n",
    "dp = [[0]*10 for _ in range(n+1)]\n",
    "dp[1] = [0,1,1,1,1,1,1,1,1,1]\n",
    "for i in range(2, n+1):\n",
    "    for j in range(10):\n",
    "        if j == 0:\n",
    "            dp[i][j] = dp[i-1][j+1]\n",
    "        elif j == 9:\n",
    "            dp[i][j] = dp[i-1][j-1]\n",
    "        else:    \n",
    "            dp[i][j] = (dp[i-1][j-1] + dp[i-1][j+1]) \n",
    "        \n",
    "print(sum(dp[n])%1000000000)"
   ]
  },
  {
   "cell_type": "code",
   "execution_count": 2,
   "metadata": {},
   "outputs": [
    {
     "name": "stdout",
     "output_type": "stream",
     "text": [
      "33\n"
     ]
    }
   ],
   "source": [
    "n = int(input())\n",
    "wines = [ int(input()) for _ in range(n)]\n",
    "dp = [0] * n\n",
    "\n",
    "if n == 1:\n",
    "    print(wines[0])\n",
    "elif n == 2:\n",
    "    print(wines[1]+wines[0])\n",
    "else:\n",
    "    dp[0], dp[1] = wines[0], wines[1]+wines[0]\n",
    "    for i in range(2,n):\n",
    "        dp[i] = max(dp[i-1], wines[i]+dp[i-2], wines[i]+wines[i-1]+dp[i-3])\n",
    "\n",
    "    print(dp[-1])"
   ]
  },
  {
   "cell_type": "code",
   "execution_count": 7,
   "metadata": {},
   "outputs": [
    {
     "name": "stdout",
     "output_type": "stream",
     "text": [
      "4\n"
     ]
    }
   ],
   "source": [
    "n = int(input())\n",
    "nums = list(map(int, input().split()))\n",
    "dp = [1]*n\n",
    "ans = 1\n",
    "for i in range(1, n):\n",
    "    for j in range(i):\n",
    "        if nums[i] > nums[j] and dp[i] <= dp[j]:\n",
    "            dp[i] = dp[j]+1\n",
    "            ans = max(ans, dp[i])\n",
    "print(ans)\n",
    "    "
   ]
  },
  {
   "cell_type": "code",
   "execution_count": 8,
   "metadata": {},
   "outputs": [
    {
     "data": {
      "text/plain": [
       "[1, 2, 1, 3, 2, 4]"
      ]
     },
     "execution_count": 8,
     "metadata": {},
     "output_type": "execute_result"
    }
   ],
   "source": [
    "dp"
   ]
  },
  {
   "cell_type": "code",
   "execution_count": 3,
   "metadata": {},
   "outputs": [
    {
     "name": "stdout",
     "output_type": "stream",
     "text": [
      "7\n"
     ]
    }
   ],
   "source": [
    "n = int(input())\n",
    "nums = list(map(int, input().split()))\n",
    "nums_re = nums[::-1]\n",
    "dp = [1]*n\n",
    "dp_re = [1]*n\n",
    "for i in range(1, n):\n",
    "    for j in range(i):\n",
    "        if nums[i] > nums[j] and dp[i] <= dp[j]:\n",
    "            dp[i] = dp[j]+1            \n",
    "        if nums_re[i] > nums_re[j] and dp_re[i] <= dp_re[j]:\n",
    "            dp_re[i] = dp_re[j]+1\n",
    "dp_re = dp_re[::-1]\n",
    "for i in range(n):\n",
    "    dp[i] = dp[i] + dp_re[i] - 1\n",
    "\n",
    "print(max(dp))\n"
   ]
  },
  {
   "cell_type": "code",
   "execution_count": 17,
   "metadata": {},
   "outputs": [],
   "source": [
    "n = int(input())\n",
    "lines = sorted([list(map(int, input().split())) for _ in range(n)])\n",
    "lines_re = lines[::-1]\n",
    "dp = [1]*n\n",
    "dp_re = [0]*n\n",
    "for i in range(1, n):\n",
    "    for j in range(i):\n",
    "        if lines[i][1] > lines[j][1] and dp[i] <= dp[j]:\n",
    "            dp[i] = dp[j] + 1 \n",
    "print(n-max(dp))\n",
    "            "
   ]
  },
  {
   "cell_type": "code",
   "execution_count": 18,
   "metadata": {},
   "outputs": [
    {
     "name": "stdout",
     "output_type": "stream",
     "text": [
      "[1, 1, 2, 1, 2, 3, 4, 5]\n"
     ]
    }
   ],
   "source": [
    "\n",
    "print(dp)"
   ]
  },
  {
   "cell_type": "code",
   "execution_count": 19,
   "metadata": {},
   "outputs": [
    {
     "name": "stdout",
     "output_type": "stream",
     "text": [
      "[1, 8]\n",
      "[2, 2]\n",
      "[3, 9]\n",
      "[4, 1]\n",
      "[6, 4]\n",
      "[7, 6]\n",
      "[9, 7]\n",
      "[10, 10]\n"
     ]
    }
   ],
   "source": [
    "for i in lines:\n",
    "    print(i)"
   ]
  },
  {
   "cell_type": "code",
   "execution_count": 30,
   "metadata": {},
   "outputs": [
    {
     "name": "stdout",
     "output_type": "stream",
     "text": [
      "4\n"
     ]
    }
   ],
   "source": [
    "word1 = str(input().strip())\n",
    "word2 = str(input().strip())\n",
    "dp = [0]* len(word2)\n",
    "\n",
    "for i in range(len(word1)):\n",
    "    cnt = 0\n",
    "    for j in range(len(word2)):\n",
    "        if cnt < dp[j]:\n",
    "            cnt = dp[j]\n",
    "        elif word1[i] == word2[j]:\n",
    "            dp[j] = cnt + 1\n",
    "        \n",
    "print(max(dp))"
   ]
  },
  {
   "cell_type": "code",
   "execution_count": 31,
   "metadata": {},
   "outputs": [
    {
     "data": {
      "text/plain": [
       "[1, 2, 3, 2, 3, 4]"
      ]
     },
     "execution_count": 31,
     "metadata": {},
     "output_type": "execute_result"
    }
   ],
   "source": [
    "dp"
   ]
  },
  {
   "cell_type": "code",
   "execution_count": 40,
   "metadata": {},
   "outputs": [],
   "source": [
    "import sys, io\n",
    "    \n",
    "file = open(\"inputs.txt\", 'w')\n",
    "# 다음 데이터에 그대로 여러 데이터를 복사붙여넣기 하면 됨\n",
    "data = \"\"\"5 5\n",
    "...##\n",
    "#....\n",
    "##...\n",
    ".....\n",
    "....#\n",
    "3\n",
    "5 1\n",
    "3 3\n",
    "4 3\n",
    "\"\"\"\n",
    "file.write(data)\n",
    "file.close()\n",
    "\n",
    "input_file = open(\"inputs.txt\", \"r\") \n",
    "sys.stdin = io.StringIO(input_file.read())"
   ]
  },
  {
   "cell_type": "code",
   "execution_count": 41,
   "metadata": {},
   "outputs": [
    {
     "name": "stdout",
     "output_type": "stream",
     "text": [
      "YES\n",
      "YES\n",
      "NO\n"
     ]
    }
   ],
   "source": [
    "import sys\n",
    "input = sys.stdin.readline\n",
    "\n",
    "n, m = map(int, input().split())\n",
    "land = []\n",
    "\n",
    "for i in range(n):\n",
    "    line = str(input().strip()).replace('.', '0').replace('#', '1')\n",
    "    land.append(list(map(int, line)))\n",
    "    \n",
    "q = int(input())\n",
    "for _ in range(q):\n",
    "    hope = list(map(int, input().split()))\n",
    "    temp2 = 0\n",
    "    \n",
    "    for i in range(n-(hope[0]-1)):\n",
    "        for j in range(m-(hope[1]-1)):\n",
    "            \n",
    "            if not sum(land[i][j:j+hope[1]]):\n",
    "                temp = 0\n",
    "                \n",
    "                for k in range(i+1, i+hope[0]):\n",
    "                    if sum(land[k][j:j+hope[1]]):\n",
    "                        temp += 1\n",
    "                        break\n",
    "            else:\n",
    "                temp = 1\n",
    "                \n",
    "            if not temp:\n",
    "                temp2 += 1\n",
    "                break\n",
    "    if temp2:\n",
    "        print('YES')\n",
    "    else:\n",
    "        print('NO')\n",
    "        \n",
    "\n",
    "\n"
   ]
  },
  {
   "cell_type": "code",
   "execution_count": null,
   "metadata": {},
   "outputs": [],
   "source": [
    "n, k = map(int, input().split())\n",
    "info = [list(map(int, input().split())) for i in range(n)]\n",
    "for i in range(n):\n",
    "    w, v = info[i][0], info[i][1]\n",
    "    for j in range(2):\n",
    "        if w+info[j] <= k:\n"
   ]
  }
 ],
 "metadata": {
  "kernelspec": {
   "display_name": "Python 3.8.13 ('fastcampus')",
   "language": "python",
   "name": "python3"
  },
  "language_info": {
   "codemirror_mode": {
    "name": "ipython",
    "version": 3
   },
   "file_extension": ".py",
   "mimetype": "text/x-python",
   "name": "python",
   "nbconvert_exporter": "python",
   "pygments_lexer": "ipython3",
   "version": "3.8.13"
  },
  "orig_nbformat": 4,
  "vscode": {
   "interpreter": {
    "hash": "fa1e288ff3583eba50c81541c02a10ffc165d963b08bb79bb7d20fe405ff4da3"
   }
  }
 },
 "nbformat": 4,
 "nbformat_minor": 2
}

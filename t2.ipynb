{
 "cells": [
  {
   "cell_type": "code",
   "execution_count": 3,
   "metadata": {},
   "outputs": [],
   "source": [
    "n= int(input())\n",
    "dp = [[0]*n for _ in range(n)]\n",
    "for i in range(n):\n",
    "    \n"
   ]
  },
  {
   "cell_type": "code",
   "execution_count": 4,
   "metadata": {},
   "outputs": [
    {
     "data": {
      "text/plain": [
       "[[0, 0, 0, 0, 0, 0, 0, 0],\n",
       " [0, 0, 0, 0, 0, 0, 0, 0],\n",
       " [0, 0, 0, 0, 0, 0, 0, 0],\n",
       " [0, 0, 0, 0, 0, 0, 0, 0],\n",
       " [0, 0, 0, 0, 0, 0, 0, 0],\n",
       " [0, 0, 0, 0, 0, 0, 0, 0],\n",
       " [0, 0, 0, 0, 0, 0, 0, 0],\n",
       " [0, 0, 0, 0, 0, 0, 0, 0]]"
      ]
     },
     "execution_count": 4,
     "metadata": {},
     "output_type": "execute_result"
    }
   ],
   "source": []
  },
  {
   "cell_type": "code",
   "execution_count": 6,
   "metadata": {},
   "outputs": [
    {
     "name": "stdout",
     "output_type": "stream",
     "text": [
      "832040 28\n"
     ]
    }
   ],
   "source": [
    "n =  int(input())\n",
    "ans = [0,0]\n",
    "def fib(n):\n",
    "    if n == 1 or n == 2:\n",
    "        ans[0] += 1\n",
    "        return 1\n",
    "    else:\n",
    "        return fib(n-1) + fib(n-2)\n",
    "\n",
    "def fib2(n):\n",
    "    \n",
    "    f = [0] * (n+1)\n",
    "    f[1],f[2] = 1, 1\n",
    "\n",
    "    for i in range(3, n+1):\n",
    "        ans[1] += 1\n",
    "        f[i] = f[i-1] + f[i-2]\n",
    "    return f[n]\n",
    "\n",
    "fib(n)\n",
    "fib2(n)\n",
    "\n",
    "print(*ans)"
   ]
  },
  {
   "cell_type": "code",
   "execution_count": 7,
   "metadata": {},
   "outputs": [
    {
     "name": "stdout",
     "output_type": "stream",
     "text": [
      "w(15, 15, 15) = 32768\n",
      "w(50, 50, 50) = 1048576\n"
     ]
    }
   ],
   "source": [
    "def w(a,b,c):\n",
    "    \n",
    "    if a<=0 or b<=0 or c<=0:\n",
    "        return 1\n",
    "    elif a>20 or b>20 or c>20:\n",
    "        return w(20, 20, 20)\n",
    "    elif dp[a][b][c]:\n",
    "        return dp[a][b][c]\n",
    "\n",
    "    elif a<b and b<c:\n",
    "        dp[a][b][c] = w(a,b,c-1) + w(a,b-1,c-1) - w(a,b-1,c)\n",
    "        return dp[a][b][c]\n",
    "    else:\n",
    "        dp[a][b][c] = w(a-1, b, c) + w(a-1, b-1, c) + w(a-1, b, c-1) - w(a-1, b-1, c-1)        \n",
    "        return dp[a][b][c]\n",
    "        \n",
    "dp = [[[0]*21 for _ in range(21)] for _ in range(21)]\n",
    "\n",
    "while True:\n",
    "    a,b,c = map(int, input().split())\n",
    "    if a == -1 and b == -1 and  c == -1:\n",
    "        break\n",
    "    else:\n",
    "        print(f\"w({a}, {b}, {c}) = {w(a,b,c)}\")\n",
    "        \n",
    "    "
   ]
  },
  {
   "cell_type": "code",
   "execution_count": 28,
   "metadata": {},
   "outputs": [
    {
     "name": "stdout",
     "output_type": "stream",
     "text": [
      "1979\n"
     ]
    }
   ],
   "source": [
    "n = int(input())\n",
    "\n",
    "p = [0,1,2] + [0]*(n-2)\n",
    "for i in range(3, n+1):\n",
    "    p[i] = (p[i-1] + p[i-2]) %15746\n",
    "\n",
    "print(p[n])"
   ]
  },
  {
   "cell_type": "code",
   "execution_count": 21,
   "metadata": {},
   "outputs": [
    {
     "ename": "KeyboardInterrupt",
     "evalue": "",
     "output_type": "error",
     "traceback": [
      "\u001b[1;31m---------------------------------------------------------------------------\u001b[0m",
      "\u001b[1;31mKeyboardInterrupt\u001b[0m                         Traceback (most recent call last)",
      "\u001b[1;32mc:\\Users\\nofx2\\OneDrive\\바탕 화면\\python workspace\\baekjoon\\t2.ipynb 셀 6\u001b[0m in \u001b[0;36m<cell line: 10>\u001b[1;34m()\u001b[0m\n\u001b[0;32m      <a href='vscode-notebook-cell:/c%3A/Users/nofx2/OneDrive/%EB%B0%94%ED%83%95%20%ED%99%94%EB%A9%B4/python%20workspace/baekjoon/t2.ipynb#W6sZmlsZQ%3D%3D?line=6'>7</a>\u001b[0m         \u001b[39mreturn\u001b[39;00m \u001b[39m2\u001b[39m\n\u001b[0;32m      <a href='vscode-notebook-cell:/c%3A/Users/nofx2/OneDrive/%EB%B0%94%ED%83%95%20%ED%99%94%EB%A9%B4/python%20workspace/baekjoon/t2.ipynb#W6sZmlsZQ%3D%3D?line=7'>8</a>\u001b[0m     \u001b[39mreturn\u001b[39;00m p(n\u001b[39m-\u001b[39m\u001b[39m1\u001b[39m)\u001b[39m+\u001b[39mp(n\u001b[39m-\u001b[39m\u001b[39m2\u001b[39m)\n\u001b[1;32m---> <a href='vscode-notebook-cell:/c%3A/Users/nofx2/OneDrive/%EB%B0%94%ED%83%95%20%ED%99%94%EB%A9%B4/python%20workspace/baekjoon/t2.ipynb#W6sZmlsZQ%3D%3D?line=9'>10</a>\u001b[0m \u001b[39mprint\u001b[39m(p(n)\u001b[39m%\u001b[39m\u001b[39m15746\u001b[39m)\n",
      "\u001b[1;32mc:\\Users\\nofx2\\OneDrive\\바탕 화면\\python workspace\\baekjoon\\t2.ipynb 셀 6\u001b[0m in \u001b[0;36mp\u001b[1;34m(n)\u001b[0m\n\u001b[0;32m      <a href='vscode-notebook-cell:/c%3A/Users/nofx2/OneDrive/%EB%B0%94%ED%83%95%20%ED%99%94%EB%A9%B4/python%20workspace/baekjoon/t2.ipynb#W6sZmlsZQ%3D%3D?line=5'>6</a>\u001b[0m \u001b[39melif\u001b[39;00m n \u001b[39m==\u001b[39m\u001b[39m2\u001b[39m :\n\u001b[0;32m      <a href='vscode-notebook-cell:/c%3A/Users/nofx2/OneDrive/%EB%B0%94%ED%83%95%20%ED%99%94%EB%A9%B4/python%20workspace/baekjoon/t2.ipynb#W6sZmlsZQ%3D%3D?line=6'>7</a>\u001b[0m     \u001b[39mreturn\u001b[39;00m \u001b[39m2\u001b[39m\n\u001b[1;32m----> <a href='vscode-notebook-cell:/c%3A/Users/nofx2/OneDrive/%EB%B0%94%ED%83%95%20%ED%99%94%EB%A9%B4/python%20workspace/baekjoon/t2.ipynb#W6sZmlsZQ%3D%3D?line=7'>8</a>\u001b[0m \u001b[39mreturn\u001b[39;00m p(n\u001b[39m-\u001b[39;49m\u001b[39m1\u001b[39;49m)\u001b[39m+\u001b[39mp(n\u001b[39m-\u001b[39m\u001b[39m2\u001b[39m)\n",
      "\u001b[1;32mc:\\Users\\nofx2\\OneDrive\\바탕 화면\\python workspace\\baekjoon\\t2.ipynb 셀 6\u001b[0m in \u001b[0;36mp\u001b[1;34m(n)\u001b[0m\n\u001b[0;32m      <a href='vscode-notebook-cell:/c%3A/Users/nofx2/OneDrive/%EB%B0%94%ED%83%95%20%ED%99%94%EB%A9%B4/python%20workspace/baekjoon/t2.ipynb#W6sZmlsZQ%3D%3D?line=5'>6</a>\u001b[0m \u001b[39melif\u001b[39;00m n \u001b[39m==\u001b[39m\u001b[39m2\u001b[39m :\n\u001b[0;32m      <a href='vscode-notebook-cell:/c%3A/Users/nofx2/OneDrive/%EB%B0%94%ED%83%95%20%ED%99%94%EB%A9%B4/python%20workspace/baekjoon/t2.ipynb#W6sZmlsZQ%3D%3D?line=6'>7</a>\u001b[0m     \u001b[39mreturn\u001b[39;00m \u001b[39m2\u001b[39m\n\u001b[1;32m----> <a href='vscode-notebook-cell:/c%3A/Users/nofx2/OneDrive/%EB%B0%94%ED%83%95%20%ED%99%94%EB%A9%B4/python%20workspace/baekjoon/t2.ipynb#W6sZmlsZQ%3D%3D?line=7'>8</a>\u001b[0m \u001b[39mreturn\u001b[39;00m p(n\u001b[39m-\u001b[39;49m\u001b[39m1\u001b[39;49m)\u001b[39m+\u001b[39mp(n\u001b[39m-\u001b[39m\u001b[39m2\u001b[39m)\n",
      "    \u001b[1;31m[... skipping similar frames: p at line 8 (83 times)]\u001b[0m\n",
      "\u001b[1;32mc:\\Users\\nofx2\\OneDrive\\바탕 화면\\python workspace\\baekjoon\\t2.ipynb 셀 6\u001b[0m in \u001b[0;36mp\u001b[1;34m(n)\u001b[0m\n\u001b[0;32m      <a href='vscode-notebook-cell:/c%3A/Users/nofx2/OneDrive/%EB%B0%94%ED%83%95%20%ED%99%94%EB%A9%B4/python%20workspace/baekjoon/t2.ipynb#W6sZmlsZQ%3D%3D?line=5'>6</a>\u001b[0m \u001b[39melif\u001b[39;00m n \u001b[39m==\u001b[39m\u001b[39m2\u001b[39m :\n\u001b[0;32m      <a href='vscode-notebook-cell:/c%3A/Users/nofx2/OneDrive/%EB%B0%94%ED%83%95%20%ED%99%94%EB%A9%B4/python%20workspace/baekjoon/t2.ipynb#W6sZmlsZQ%3D%3D?line=6'>7</a>\u001b[0m     \u001b[39mreturn\u001b[39;00m \u001b[39m2\u001b[39m\n\u001b[1;32m----> <a href='vscode-notebook-cell:/c%3A/Users/nofx2/OneDrive/%EB%B0%94%ED%83%95%20%ED%99%94%EB%A9%B4/python%20workspace/baekjoon/t2.ipynb#W6sZmlsZQ%3D%3D?line=7'>8</a>\u001b[0m \u001b[39mreturn\u001b[39;00m p(n\u001b[39m-\u001b[39;49m\u001b[39m1\u001b[39;49m)\u001b[39m+\u001b[39mp(n\u001b[39m-\u001b[39m\u001b[39m2\u001b[39m)\n",
      "\u001b[1;31mKeyboardInterrupt\u001b[0m: "
     ]
    }
   ],
   "source": [
    "n = int(input())\n",
    "\n",
    "def p(n):\n",
    "    if n ==1:\n",
    "        return 1\n",
    "    elif n ==2 :\n",
    "        return 2\n",
    "    return p(n-1)+p(n-2)\n",
    "\n",
    "print(p(n)%15746)"
   ]
  },
  {
   "cell_type": "code",
   "execution_count": 51,
   "metadata": {},
   "outputs": [
    {
     "name": "stdout",
     "output_type": "stream",
     "text": [
      "33\n"
     ]
    }
   ],
   "source": [
    "n = int(input())\n",
    "nums = list(map(int, input().split()))\n",
    "ans = -1001\n",
    "\n",
    "for i in range(n):\n",
    "    temp = nums[i]\n",
    "    \n",
    "    for j in range(i+1, n):\n",
    "        ans = max(temp, ans)\n",
    "        temp += nums[j] \n",
    "\n",
    "print(ans)"
   ]
  },
  {
   "cell_type": "code",
   "execution_count": 55,
   "metadata": {},
   "outputs": [
    {
     "name": "stdout",
     "output_type": "stream",
     "text": [
      "-1\n"
     ]
    }
   ],
   "source": [
    "n = int(input())\n",
    "nums = [0] + list(map(int, input().split()))\n",
    "sums = [-1001]*(n+1)\n",
    "\n",
    "for i in range(1, n+1):\n",
    "    sums[i]= max(nums[i], nums[i]+sums[i-1])\n",
    "\n",
    "print(max(sums))"
   ]
  },
  {
   "cell_type": "code",
   "execution_count": 130,
   "metadata": {},
   "outputs": [],
   "source": [
    "import sys, io\n",
    "file = open(\"inputs.txt\", 'w')\n",
    "# 다음 데이터에 그대로 여러 데이터를 복사붙여넣기 하면 됨,\n",
    "data = \"\"\"3\n",
    "1 100 100\n",
    "100 100 100\n",
    "1 100 100\n",
    "\"\"\"\n",
    "file.write(data)\n",
    "file.close()\n",
    "input_file = open(\"inputs.txt\", \"r\")\n",
    "sys.stdin = io.StringIO(input_file.read())"
   ]
  },
  {
   "cell_type": "code",
   "execution_count": 131,
   "metadata": {},
   "outputs": [
    {
     "name": "stdout",
     "output_type": "stream",
     "text": [
      "102\n"
     ]
    }
   ],
   "source": [
    "import sys\n",
    "input = sys.stdin.readline\n",
    "\n",
    "n = int(input())\n",
    "costs = [list(map(int, input().split())) for _ in range(n)]\n",
    "\n",
    "for i in range(1,n):\n",
    "    for j in range(3):\n",
    "        costs[i][j] += min([costs[i-1][k] for k in range(3) if k != j])\n",
    "print(min(costs[-1]))\n",
    "\n",
    "    "
   ]
  },
  {
   "cell_type": "code",
   "execution_count": 129,
   "metadata": {},
   "outputs": [
    {
     "name": "stdout",
     "output_type": "stream",
     "text": [
      "[[30, 19, 5], [69, 82, 83], [97, 88, 166], [92, 168, 145], [235, 178, 176], [269, 208, 269]]\n"
     ]
    }
   ],
   "source": [
    "print(costs)"
   ]
  },
  {
   "cell_type": "code",
   "execution_count": 138,
   "metadata": {},
   "outputs": [],
   "source": [
    "import sys, io\n",
    "file = open(\"inputs.txt\", 'w')\n",
    "# 다음 데이터에 그대로 여러 데이터를 복사붙여넣기 하면 됨,\n",
    "data = \"\"\"5\n",
    "7\n",
    "3 8\n",
    "8 1 0\n",
    "2 7 4 4\n",
    "4 5 2 6 5\n",
    "\"\"\"\n",
    "file.write(data)\n",
    "file.close()\n",
    "input_file = open(\"inputs.txt\", \"r\")\n",
    "sys.stdin = io.StringIO(input_file.read())"
   ]
  },
  {
   "cell_type": "code",
   "execution_count": 139,
   "metadata": {},
   "outputs": [
    {
     "name": "stdout",
     "output_type": "stream",
     "text": [
      "30\n"
     ]
    }
   ],
   "source": [
    "import sys\n",
    "input = sys.stdin.readline\n",
    "\n",
    "n = int(input())\n",
    "\n",
    "dp = [[int(input())]]\n",
    "\n",
    "for i in range(n-1):\n",
    "    temp = list(map(int, input().split()))\n",
    "    for j in range(i+2):\n",
    "        if j == 0:\n",
    "            temp[j] += dp[-1][j]\n",
    "        elif j == i+1:\n",
    "            temp[j] += dp[-1][j-1]\n",
    "        else:\n",
    "            temp[j] += max(dp[-1][j], dp[-1][j-1])\n",
    "    dp.append(temp)\n",
    "print(max(dp[-1]))"
   ]
  },
  {
   "cell_type": "code",
   "execution_count": null,
   "metadata": {},
   "outputs": [],
   "source": []
  }
 ],
 "metadata": {
  "kernelspec": {
   "display_name": "Python 3.9.12 ('hong')",
   "language": "python",
   "name": "python3"
  },
  "language_info": {
   "codemirror_mode": {
    "name": "ipython",
    "version": 3
   },
   "file_extension": ".py",
   "mimetype": "text/x-python",
   "name": "python",
   "nbconvert_exporter": "python",
   "pygments_lexer": "ipython3",
   "version": "3.9.12"
  },
  "orig_nbformat": 4,
  "vscode": {
   "interpreter": {
    "hash": "996becb82b76d6125b53ee3d40844ebd88897a7912ca24d4d0461d0f4ffb73a8"
   }
  }
 },
 "nbformat": 4,
 "nbformat_minor": 2
}

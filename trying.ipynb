{
 "cells": [
  {
   "cell_type": "code",
   "execution_count": 26,
   "metadata": {},
   "outputs": [],
   "source": [
    "import sys, io\n",
    "\n",
    "file = open(\"inputs.txt\", 'w')\n",
    "# 다음 데이터에 그대로 여러 데이터를 복사붙여넣기 하면 됨\n",
    "data = \"\"\"3 4\n",
    "ohhenrie\n",
    "charlie\n",
    "baesangwook\n",
    "obama\n",
    "baesangwook\n",
    "ohhenrie\n",
    "clinton\n",
    "\"\"\"\n",
    "file.write(data)\n",
    "file.close()\n",
    "\n",
    "input_file = open(\"inputs.txt\", \"r\") \n",
    "sys.stdin = io.StringIO(input_file.read())"
   ]
  },
  {
   "cell_type": "code",
   "execution_count": 27,
   "metadata": {},
   "outputs": [
    {
     "name": "stdout",
     "output_type": "stream",
     "text": [
      "2\n",
      "baesangwook\n",
      "ohhenrie\n"
     ]
    }
   ],
   "source": [
    "import sys\n",
    "input = sys.stdin.readline\n",
    "\n",
    "n, m = map(int, input().split())\n",
    "n_list = sorted([input().strip() for _ in range(n)])\n",
    "n_list = { i:0 for i in n_list }\n",
    "\n",
    "for _ in range(m):\n",
    "    word = input().strip()\n",
    "    if word in n_list:\n",
    "        n_list[word] += 1\n",
    "print(sum(n_list.values()))\n",
    "for k,v in n_list.items():\n",
    "    if v:\n",
    "        print(k)"
   ]
  },
  {
   "cell_type": "code",
   "execution_count": 1,
   "metadata": {},
   "outputs": [
    {
     "ename": "ValueError",
     "evalue": "not enough values to unpack (expected 2, got 0)",
     "output_type": "error",
     "traceback": [
      "\u001b[0;31m---------------------------------------------------------------------------\u001b[0m",
      "\u001b[0;31mValueError\u001b[0m                                Traceback (most recent call last)",
      "\u001b[1;32m/Users/krc/Desktop/수업자료/# 스터디/baekjoon/trying.ipynb 셀 3\u001b[0m in \u001b[0;36m<cell line: 6>\u001b[0;34m()\u001b[0m\n\u001b[1;32m      <a href='vscode-notebook-cell:/Users/krc/Desktop/%E1%84%89%E1%85%AE%E1%84%8B%E1%85%A5%E1%86%B8%E1%84%8C%E1%85%A1%E1%84%85%E1%85%AD/%23%20%E1%84%89%E1%85%B3%E1%84%90%E1%85%A5%E1%84%83%E1%85%B5/baekjoon/trying.ipynb#ch0000002?line=3'>4</a>\u001b[0m nums \u001b[39m=\u001b[39m [\u001b[39m0\u001b[39m]\u001b[39m*\u001b[39m\u001b[39m200000\u001b[39m\n\u001b[1;32m      <a href='vscode-notebook-cell:/Users/krc/Desktop/%E1%84%89%E1%85%AE%E1%84%8B%E1%85%A5%E1%86%B8%E1%84%8C%E1%85%A1%E1%84%85%E1%85%AD/%23%20%E1%84%89%E1%85%B3%E1%84%90%E1%85%A5%E1%84%83%E1%85%B5/baekjoon/trying.ipynb#ch0000002?line=4'>5</a>\u001b[0m count \u001b[39m=\u001b[39m \u001b[39m0\u001b[39m\n\u001b[0;32m----> <a href='vscode-notebook-cell:/Users/krc/Desktop/%E1%84%89%E1%85%AE%E1%84%8B%E1%85%A5%E1%86%B8%E1%84%8C%E1%85%A1%E1%84%85%E1%85%AD/%23%20%E1%84%89%E1%85%B3%E1%84%90%E1%85%A5%E1%84%83%E1%85%B5/baekjoon/trying.ipynb#ch0000002?line=5'>6</a>\u001b[0m a, b \u001b[39m=\u001b[39m \u001b[39mmap\u001b[39m(\u001b[39mint\u001b[39m, \u001b[39minput\u001b[39m()\u001b[39m.\u001b[39msplit())\n\u001b[1;32m      <a href='vscode-notebook-cell:/Users/krc/Desktop/%E1%84%89%E1%85%AE%E1%84%8B%E1%85%A5%E1%86%B8%E1%84%8C%E1%85%A1%E1%84%85%E1%85%AD/%23%20%E1%84%89%E1%85%B3%E1%84%90%E1%85%A5%E1%84%83%E1%85%B5/baekjoon/trying.ipynb#ch0000002?line=6'>7</a>\u001b[0m a_list \u001b[39m=\u001b[39m \u001b[39mlist\u001b[39m(\u001b[39mmap\u001b[39m(\u001b[39mint\u001b[39m, \u001b[39minput\u001b[39m()\u001b[39m.\u001b[39msplit()))\n\u001b[1;32m      <a href='vscode-notebook-cell:/Users/krc/Desktop/%E1%84%89%E1%85%AE%E1%84%8B%E1%85%A5%E1%86%B8%E1%84%8C%E1%85%A1%E1%84%85%E1%85%AD/%23%20%E1%84%89%E1%85%B3%E1%84%90%E1%85%A5%E1%84%83%E1%85%B5/baekjoon/trying.ipynb#ch0000002?line=7'>8</a>\u001b[0m b_list \u001b[39m=\u001b[39m \u001b[39mlist\u001b[39m(\u001b[39mmap\u001b[39m(\u001b[39mint\u001b[39m, \u001b[39minput\u001b[39m()\u001b[39m.\u001b[39msplit()))\n",
      "\u001b[0;31mValueError\u001b[0m: not enough values to unpack (expected 2, got 0)"
     ]
    }
   ],
   "source": [
    "import sys\n",
    "input = sys.stdin.readline\n",
    "\n",
    "nums = [0]*200000\n",
    "count = 0\n",
    "a, b = map(int, input().split())\n",
    "a_list = list(map(int, input().split()))\n",
    "b_list = list(map(int, input().split()))\n",
    "for i in a_list:\n",
    "    nums[i] = 1\n",
    "for j in a_list:\n",
    "    if nums[j] == 0:\n",
    "        count += 1\n",
    "print(count)"
   ]
  },
  {
   "cell_type": "code",
   "execution_count": 1,
   "metadata": {},
   "outputs": [],
   "source": [
    "def solution(rc, operations):\n",
    "    for i in operations:\n",
    "        if i == 'ShiftRow':\n",
    "            rc = shiftrow(rc)\n",
    "        else:\n",
    "            rc = rotate(rc)\n",
    "    return rc\n",
    "\n",
    "\n",
    "def shiftrow(rc):\n",
    "    rc_ = rc.copy()\n",
    "    for i in range(len(rc)):\n",
    "        if i == len(rc)-1:\n",
    "            rc_[0] = rc[i]\n",
    "        else:\n",
    "            rc_[i+1] = rc[i]\n",
    "    return rc_\n",
    "\n",
    "\n",
    "def rotate(rc):\n",
    "    rc_ = rc.copy()\n",
    "    rc_[0][1:] = rc[0][:-1]\n",
    "    rc_[-1][:-1]= rc[-1][1:]\n",
    "    for i in range(len(rc)-1):\n",
    "        rc_[i][0] = rc[i+1][0]\n",
    "        rc_[i+1][-1] = rc[i][-1]\n",
    "\n",
    "    \n",
    "    return rc_\n",
    "\n"
   ]
  },
  {
   "cell_type": "code",
   "execution_count": 6,
   "metadata": {},
   "outputs": [
    {
     "data": {
      "text/plain": [
       "[[1, 7, 8], [5, 2, 8], [5, 6, 8]]"
      ]
     },
     "execution_count": 6,
     "metadata": {},
     "output_type": "execute_result"
    }
   ],
   "source": [
    "solution([[1, 2, 3], [4, 5, 6], [7, 8, 9]],[\"ShiftRow\",\"Rotate\"])"
   ]
  },
  {
   "cell_type": "code",
<<<<<<< HEAD
   "execution_count": 24,
   "metadata": {},
   "outputs": [],
   "source": [
    "def solution(n, k, cmd):\n",
    "    answer = ['O'] * n\n",
    "    end = n-1\n",
    "    deleted_cell = []\n",
    "    for i in cmd:\n",
    "        if i =='C':\n",
    "            deleted_cell.append(k)\n",
    "            answer[k] = 'X'\n",
    "            if end == k:\n",
    "                while answer[k] == 'X':\n",
    "                    k -= 1\n",
    "                end = k\n",
    "            else:\n",
    "                while answer[k] == 'X':\n",
    "                    k += 1\n",
    "\n",
    "        elif i =='Z':\n",
    "            back = deleted_cell.pop()\n",
    "            answer[back] = 'O'\n",
    "            if back > end:\n",
    "                end = back\n",
    "\n",
    "        else:\n",
    "            order, num = map(str, i.split())\n",
    "            if order == 'U':\n",
    "                k = k-int(num)-answer[k-int(num):k].count('X')\n",
    "            else:\n",
    "                k = k+int(num)+answer[k:k+int(num)+1].count('X')\n",
    "\n",
    "    return ''.join(answer)"
=======
   "execution_count": 4,
   "metadata": {},
   "outputs": [],
   "source": [
    "mat = [[(i+1)+(j*6) for i in range(6)] for j in range(6)]"
>>>>>>> c1dfa09054bb2841870bdc12412f520cc45bd922
   ]
  },
  {
   "cell_type": "code",
<<<<<<< HEAD
   "execution_count": 25,
=======
   "execution_count": 5,
>>>>>>> c1dfa09054bb2841870bdc12412f520cc45bd922
   "metadata": {},
   "outputs": [
    {
     "data": {
      "text/plain": [
<<<<<<< HEAD
       "'OOXOXOOO'"
      ]
     },
     "execution_count": 25,
=======
       "[[1, 2, 3, 4, 5, 6],\n",
       " [7, 8, 9, 10, 11, 12],\n",
       " [13, 14, 15, 16, 17, 18],\n",
       " [19, 20, 21, 22, 23, 24],\n",
       " [25, 26, 27, 28, 29, 30],\n",
       " [31, 32, 33, 34, 35, 36]]"
      ]
     },
     "execution_count": 5,
>>>>>>> c1dfa09054bb2841870bdc12412f520cc45bd922
     "metadata": {},
     "output_type": "execute_result"
    }
   ],
   "source": [
<<<<<<< HEAD
    "solution(8,2,[\"D 2\",\"C\",\"U 3\",\"C\",\"D 4\",\"C\",\"U 2\",\"Z\",\"Z\",\"U 1\",\"C\"])"
=======
    "mat"
>>>>>>> c1dfa09054bb2841870bdc12412f520cc45bd922
   ]
  },
  {
   "cell_type": "code",
<<<<<<< HEAD
   "execution_count": 26,
   "metadata": {},
   "outputs": [
    {
     "data": {
      "text/plain": [
       "[1]"
      ]
     },
     "execution_count": 26,
     "metadata": {},
     "output_type": "execute_result"
    }
   ],
   "source": [
    "a = [1,2,3]\n",
    "a[0:1]"
   ]
  },
  {
   "cell_type": "code",
   "execution_count": 35,
   "metadata": {},
   "outputs": [
    {
     "data": {
      "text/plain": [
       "5"
      ]
     },
     "execution_count": 35,
     "metadata": {},
     "output_type": "execute_result"
    }
   ],
   "source": [
    "def solution(queue1, queue2):\n",
    "    from collections import deque\n",
    "    queue1 = deque(queue1)\n",
    "    queue2 = deque(queue2)\n",
    "    count = 0\n",
    "\n",
    "    if sum(queue1+queue2)%2 or max(queue1+queue2) > sum(queue1+queue2)//2:\n",
    "        return -1\n",
    "    \n",
    "    while sum(queue1) != sum(queue2):\n",
    "\n",
    "         \n",
    "        if sum(queue1) > sum(queue2):\n",
    "            queue2.append(queue1.popleft())\n",
    "            count += 1\n",
    "        elif sum(queue1) < sum(queue2):\n",
    "            queue1.append(queue2.popleft())\n",
    "            count += 1\n",
    "\n",
    "    return count"
   ]
  },
  {
   "cell_type": "code",
   "execution_count": 41,
   "metadata": {},
   "outputs": [],
   "source": [
    "def solution(s):\n",
    "    \n",
    "    \n",
    "    lens = []\n",
    "    b = ''\n",
    "    temp =''\n",
    "    for i in range(1, len(s)//2+1):\n",
    "        cnt = 1\n",
    "        for j in range(0,len(s), i):\n",
    "            if s[j:j+i] == b:\n",
    "                cnt += 1\n",
    "            else:\n",
    "                temp = temp + str(cnt) + s[j:j+i]\n",
    "                cnt = 1\n",
    "                b = s[j:j+i]\n",
    "        lens.append(len(temp))\n",
    "    answer = min(lens)\n",
    "    \n",
    "    \n",
    "    \n",
    "    return answer"
   ]
  },
  {
   "cell_type": "code",
   "execution_count": 42,
   "metadata": {},
   "outputs": [
    {
     "data": {
      "text/plain": [
       "4"
      ]
     },
     "execution_count": 42,
     "metadata": {},
     "output_type": "execute_result"
    }
   ],
   "source": [
    "solution('aaaab')"
   ]
  },
  {
   "cell_type": "code",
   "execution_count": 89,
   "metadata": {},
   "outputs": [],
   "source": [
    "def solution(s):\n",
    "    \n",
    "    lens = []\n",
    "    if len(s) <= 1:\n",
    "        return len(s)\n",
    "    for i in range(1, len(s)//2+1):\n",
    "        temp =''\n",
    "        cnt = 1\n",
    "        b = ''\n",
    "        for j in range(0,len(s), i):\n",
    "            if j == 0:\n",
    "                b = s[j:j+i]\n",
    "            elif s[j:j+i] == b:\n",
    "                cnt += 1\n",
    "            else:\n",
    "                if cnt >= 2 :\n",
    "                    temp = temp + str(cnt) + b\n",
    "                    cnt = 1\n",
    "                    b = s[j:j+i]\n",
    "                else:\n",
    "                    temp = temp + b\n",
    "                    cnt = 1\n",
    "                    b = s[j:j+i]\n",
    "        if cnt >= 2:\n",
    "            temp = temp + str(cnt) + b\n",
    "        else:            \n",
    "            temp = temp + b\n",
    "\n",
    "        \n",
    "        lens.append(len(temp))\n",
    "        \n",
    "    answer = min(lens)\n",
    "    \n",
    "    return answer"
   ]
  },
  {
   "cell_type": "code",
   "execution_count": 90,
   "metadata": {},
   "outputs": [
    {
     "name": "stdout",
     "output_type": "stream",
     "text": [
      "2a2ba3c\n",
      "aabbaccc\n",
      "aabbaccc\n",
      "aabbaccc\n"
     ]
    },
    {
     "data": {
      "text/plain": [
       "7"
      ]
     },
     "execution_count": 90,
     "metadata": {},
     "output_type": "execute_result"
    }
   ],
   "source": []
  },
  {
   "cell_type": "code",
=======
>>>>>>> c1dfa09054bb2841870bdc12412f520cc45bd922
   "execution_count": 9,
   "metadata": {},
   "outputs": [
    {
<<<<<<< HEAD
     "ename": "SyntaxError",
     "evalue": "invalid syntax (322481423.py, line 1)",
     "output_type": "error",
     "traceback": [
      "\u001b[1;36m  Input \u001b[1;32mIn [9]\u001b[1;36m\u001b[0m\n\u001b[1;33m    a.append('d':[1,2])\u001b[0m\n\u001b[1;37m                ^\u001b[0m\n\u001b[1;31mSyntaxError\u001b[0m\u001b[1;31m:\u001b[0m invalid syntax\n"
=======
     "ename": "TypeError",
     "evalue": "can only concatenate list (not \"int\") to list",
     "output_type": "error",
     "traceback": [
      "\u001b[0;31m---------------------------------------------------------------------------\u001b[0m",
      "\u001b[0;31mTypeError\u001b[0m                                 Traceback (most recent call last)",
      "\u001b[1;32m/Users/krc/Desktop/수업자료/# 스터디/baekjoon/trying.ipynb 셀 8\u001b[0m in \u001b[0;36m<cell line: 2>\u001b[0;34m()\u001b[0m\n\u001b[1;32m      <a href='vscode-notebook-cell:/Users/krc/Desktop/%E1%84%89%E1%85%AE%E1%84%8B%E1%85%A5%E1%86%B8%E1%84%8C%E1%85%A1%E1%84%85%E1%85%AD/%23%20%E1%84%89%E1%85%B3%E1%84%90%E1%85%A5%E1%84%83%E1%85%B5/baekjoon/trying.ipynb#X10sZmlsZQ%3D%3D?line=0'>1</a>\u001b[0m temp \u001b[39m=\u001b[39m []\n\u001b[0;32m----> <a href='vscode-notebook-cell:/Users/krc/Desktop/%E1%84%89%E1%85%AE%E1%84%8B%E1%85%A5%E1%86%B8%E1%84%8C%E1%85%A1%E1%84%85%E1%85%AD/%23%20%E1%84%89%E1%85%B3%E1%84%90%E1%85%A5%E1%84%83%E1%85%B5/baekjoon/trying.ipynb#X10sZmlsZQ%3D%3D?line=1'>2</a>\u001b[0m temp\u001b[39m.\u001b[39mappend(\u001b[39msum\u001b[39;49m(mat[\u001b[39m0\u001b[39;49m][\u001b[39m2\u001b[39;49m:\u001b[39m4\u001b[39;49m],[]))\n\u001b[1;32m      <a href='vscode-notebook-cell:/Users/krc/Desktop/%E1%84%89%E1%85%AE%E1%84%8B%E1%85%A5%E1%86%B8%E1%84%8C%E1%85%A1%E1%84%85%E1%85%AD/%23%20%E1%84%89%E1%85%B3%E1%84%90%E1%85%A5%E1%84%83%E1%85%B5/baekjoon/trying.ipynb#X10sZmlsZQ%3D%3D?line=2'>3</a>\u001b[0m temp\n",
      "\u001b[0;31mTypeError\u001b[0m: can only concatenate list (not \"int\") to list"
>>>>>>> c1dfa09054bb2841870bdc12412f520cc45bd922
     ]
    }
   ],
   "source": [
<<<<<<< HEAD
    "a = {1:[2,3],2:[2,3]}"
=======
    "temp = []\n",
    "temp.append(sum(mat[0][2:4],[]))\n",
    "temp"
>>>>>>> c1dfa09054bb2841870bdc12412f520cc45bd922
   ]
  },
  {
   "cell_type": "code",
<<<<<<< HEAD
   "execution_count": 7,
   "metadata": {},
   "outputs": [],
   "source": [
    "a[1][0] = 5"
   ]
  },
  {
   "cell_type": "code",
   "execution_count": 14,
   "metadata": {},
   "outputs": [],
   "source": [
    "a['d'] = [2,3]"
   ]
  },
  {
   "cell_type": "code",
   "execution_count": 15,
   "metadata": {},
   "outputs": [
    {
     "data": {
      "text/plain": [
       "{1: [5, 3], 'd': [2, 3]}"
      ]
     },
     "execution_count": 15,
     "metadata": {},
     "output_type": "execute_result"
    }
   ],
   "source": [
    "a"
   ]
  },
  {
   "cell_type": "code",
   "execution_count": 20,
   "metadata": {},
   "outputs": [
    {
     "data": {
      "text/plain": [
       "['a', 's', 'd']"
      ]
     },
     "execution_count": 20,
     "metadata": {},
     "output_type": "execute_result"
    }
   ],
   "source": [
    "a = 'asd'\n",
    "b= list(a)\n",
    "b"
   ]
  },
  {
   "cell_type": "code",
   "execution_count": 21,
   "metadata": {},
   "outputs": [
    {
     "data": {
      "text/plain": [
       "'kksd'"
      ]
     },
     "execution_count": 21,
     "metadata": {},
     "output_type": "execute_result"
    }
   ],
   "source": [
    "a.replace('a', 'kk')"
   ]
  },
  {
   "cell_type": "code",
   "execution_count": 94,
   "metadata": {},
   "outputs": [],
   "source": [
    "def solution(orders, course):\n",
    "    from itertools import combinations\n",
    "    com = {}\n",
    "    answer = []\n",
    "    for i in orders:\n",
    "        for j in course:\n",
    "            if j not in com:\n",
    "                com[j] = {}\n",
    "            \n",
    "            if len(i) >= j:\n",
    "                for c in combinations(sorted(list(i)), j):\n",
    "                    if ''.join(c) in com[j]:\n",
    "                        com[j][''.join(c)] += 1\n",
    "                    else:\n",
    "                        com[j][''.join(c)] = 1\n",
    "                            \n",
    "            \n",
    "    for h in course:\n",
    "        temp = sorted(com[h].items(), key = lambda x: x[1], reverse=True)\n",
    "        for i in range(len(temp)):\n",
    "            if temp[i][1] > 1:\n",
    "                if i == 0 :\n",
    "                    answer.append(temp[i][0])\n",
    "                elif temp[0][1] == temp[i][1]:\n",
    "                    answer.append(temp[i][0])\n",
    "    \n",
    "        \n",
    "    return sorted(answer)"
=======
   "execution_count": 60,
   "metadata": {},
   "outputs": [],
   "source": [
    "def solution(rows, columns, queries):\n",
    "    import copy\n",
    "\n",
    "    mat = [[(i+1)+(j*columns) for i in range(columns)] for j in range(rows)]\n",
    "    answer = []\n",
    "    for i in queries:\n",
    "        temp = []\n",
    "        _mat = copy.deepcopy(mat)\n",
    "        \n",
    "        mat[i[0]-1][i[1]:i[3]] = _mat[i[0]-1][i[1]-1:i[3]-1]\n",
    "        mat[i[2]-1][i[1]-1:i[3]-1] = _mat[i[2]-1][i[1]:i[3]]\n",
    "        \n",
    "        temp += mat[i[0]-1][i[1]:i[3]] + mat[i[2]-1][i[1]-1:i[3]-1]\n",
    "        \n",
    "        \n",
    "        for j in range(i[2]-i[0]):\n",
    "            mat[i[0]-1+j][i[1]-1] = _mat[i[0]+j][i[1]-1]\n",
    "            mat[i[2]-1-j][i[3]-1] = _mat[i[2]-2-j][i[3]-1] \n",
    "            temp.append(mat[i[0]-1+j][i[1]-1])\n",
    "            temp.append(mat[i[2]-1-j][i[3]-1])\n",
    "        \n",
    "        answer.append(min(temp))\n",
    "    \n",
    "    return answer"
>>>>>>> c1dfa09054bb2841870bdc12412f520cc45bd922
   ]
  },
  {
   "cell_type": "code",
<<<<<<< HEAD
   "execution_count": 95,
   "metadata": {},
   "outputs": [
    {
     "data": {
      "text/plain": [
       "['AC', 'ACDE', 'BCFG', 'CDE']"
      ]
     },
     "execution_count": 95,
=======
   "execution_count": 61,
   "metadata": {},
   "outputs": [
    {
     "name": "stdout",
     "output_type": "stream",
     "text": [
      "[8, 9, 27, 28]\n",
      "[15, 10, 17, 34, 35, 36]\n",
      "[25, 27, 32, 34]\n"
     ]
    },
    {
     "data": {
      "text/plain": [
       "[8, 10, 25]"
      ]
     },
     "execution_count": 61,
>>>>>>> c1dfa09054bb2841870bdc12412f520cc45bd922
     "metadata": {},
     "output_type": "execute_result"
    }
   ],
   "source": [
<<<<<<< HEAD
    "solution([\"ABCFG\", \"AC\", \"CDE\", \"ACDE\", \"BCFG\", \"ACDEH\"],[2,3,4])"
=======
    "solution(6,6,[[2,2,5,4],[3,3,6,6],[5,1,6,3]])"
   ]
  },
  {
   "cell_type": "code",
   "execution_count": 44,
   "metadata": {},
   "outputs": [],
   "source": [
    "a = [[2,2,5,4],[3,3,6,6],[5,1,6,3]]\n",
    "a[2][1:4] = [1,2,3]"
   ]
  },
  {
   "cell_type": "code",
   "execution_count": 55,
   "metadata": {},
   "outputs": [
    {
     "data": {
      "text/plain": [
       "[3, 4, 3, 4]"
      ]
     },
     "execution_count": 55,
     "metadata": {},
     "output_type": "execute_result"
    }
   ],
   "source": [
    "a= []\n",
    "b = [2,3,4]\n",
    "a += b[1:]+[3,4]\n",
    "a"
>>>>>>> c1dfa09054bb2841870bdc12412f520cc45bd922
   ]
  },
  {
   "cell_type": "code",
   "execution_count": 72,
   "metadata": {},
<<<<<<< HEAD
   "outputs": [],
   "source": [
    "a ='as'\n"
   ]
  },
  {
   "cell_type": "code",
   "execution_count": 73,
   "metadata": {},
   "outputs": [
    {
     "name": "stdout",
     "output_type": "stream",
     "text": [
      "('a', 's')\n"
     ]
    }
   ],
   "source": [
    "from itertools import combinations\n",
    "\n",
    "\n",
    "for i in combinations(a, 2):\n",
    "    print(i)"
   ]
  },
  {
   "cell_type": "code",
   "execution_count": 23,
   "metadata": {},
=======
>>>>>>> c1dfa09054bb2841870bdc12412f520cc45bd922
   "outputs": [
    {
     "data": {
      "text/plain": [
<<<<<<< HEAD
       "{1: {1: 2, 2: 2}}"
      ]
     },
     "execution_count": 23,
=======
       "3628800"
      ]
     },
     "execution_count": 72,
>>>>>>> c1dfa09054bb2841870bdc12412f520cc45bd922
     "metadata": {},
     "output_type": "execute_result"
    }
   ],
   "source": [
<<<<<<< HEAD
    "a"
=======
    "import math\n",
    "math.factorial(10)"
>>>>>>> c1dfa09054bb2841870bdc12412f520cc45bd922
   ]
  },
  {
   "cell_type": "code",
<<<<<<< HEAD
   "execution_count": 7,
   "metadata": {},
   "outputs": [
    {
     "ename": "TypeError",
     "evalue": "can only concatenate tuple (not \"int\") to tuple",
     "output_type": "error",
     "traceback": [
      "\u001b[1;31m---------------------------------------------------------------------------\u001b[0m",
      "\u001b[1;31mTypeError\u001b[0m                                 Traceback (most recent call last)",
      "\u001b[1;32mc:\\Users\\nofx2\\OneDrive\\바탕 화면\\python workspace\\baekjoon\\trying.ipynb 셀 25\u001b[0m in \u001b[0;36m<cell line: 2>\u001b[1;34m()\u001b[0m\n\u001b[0;32m      <a href='vscode-notebook-cell:/c%3A/Users/nofx2/OneDrive/%EB%B0%94%ED%83%95%20%ED%99%94%EB%A9%B4/python%20workspace/baekjoon/trying.ipynb#X33sZmlsZQ%3D%3D?line=0'>1</a>\u001b[0m b\u001b[39m=\u001b[39m (\u001b[39m1\u001b[39m,\u001b[39m2\u001b[39m,\u001b[39m3\u001b[39m)\n\u001b[1;32m----> <a href='vscode-notebook-cell:/c%3A/Users/nofx2/OneDrive/%EB%B0%94%ED%83%95%20%ED%99%94%EB%A9%B4/python%20workspace/baekjoon/trying.ipynb#X33sZmlsZQ%3D%3D?line=1'>2</a>\u001b[0m a \u001b[39m=\u001b[39m (\u001b[39m1\u001b[39;49m,\u001b[39m2\u001b[39;49m)\u001b[39m+\u001b[39;49m \u001b[39m1\u001b[39;49m\n",
      "\u001b[1;31mTypeError\u001b[0m: can only concatenate tuple (not \"int\") to tuple"
     ]
    }
   ],
   "source": [
    "b= (1,2,3)\n",
    "a = (1,2)+ 1\n"
   ]
  },
  {
   "cell_type": "code",
   "execution_count": 6,
=======
   "execution_count": 79,
>>>>>>> c1dfa09054bb2841870bdc12412f520cc45bd922
   "metadata": {},
   "outputs": [
    {
     "data": {
      "text/plain": [
<<<<<<< HEAD
       "(1, 2, 2, 3)"
      ]
     },
     "execution_count": 6,
=======
       "0"
      ]
     },
     "execution_count": 79,
>>>>>>> c1dfa09054bb2841870bdc12412f520cc45bd922
     "metadata": {},
     "output_type": "execute_result"
    }
   ],
   "source": [
<<<<<<< HEAD
    "a"
   ]
  },
  {
   "cell_type": "code",
   "execution_count": null,
   "metadata": {},
   "outputs": [],
   "source": [
    "def solution(n, paths, gates, summits):\n",
    "    answer = [0,0]\n",
    "    \n",
    "    \n",
    "    for gate in gates:\n",
    "        togo = [(0, gate)]#최대intensity, 코스\n",
    "        \n",
    "        while togo:\n",
    "            \n",
    "            now = togo.pop()\n",
    "            \n",
    "            if now[-1] in summits:\n",
    "                if answer ==[0,0] or now[0] < answer[1] or (now[0] == answer[1] and now[-1] < answer[0]):\n",
    "                    answer = [now[-1], now[0]]\n",
    "            else:\n",
    "                for path in paths:\n",
    "\n",
    "                    if path[0] == now[-1]:\n",
    "                        if path[1] not in now[1:] and path[1] not in gates:\n",
    "                            togo.append((max(now[0],path[2]),)+now[1:]+(path[1],))\n",
    "\n",
    "                    elif path[1] == now[-1]:\n",
    "                        if path[0] not in now[1:] and path[0] not in gates:\n",
    "                            togo.append((max(now[0],path[2]),)+now[1:]+(path[0],))\n",
    "                \n",
    "                \n",
    "    return answer"
   ]
  },
  {
   "cell_type": "code",
   "execution_count": 107,
   "metadata": {},
   "outputs": [],
   "source": [
    "from collections import defaultdict\n",
    "import heapq\n",
    "def solution(n, paths, gates, summits):\n",
    "    answer = [10000000,100000000]\n",
    "    visited = [10000001] *(n+1)\n",
    "    graph = defaultdict(list)    \n",
    "    summits = set(summits)\n",
    "    for de, ar, t in paths:\n",
    "        graph[de].append((t,ar))\n",
    "        graph[ar].append((t,de))\n",
    "\n",
    "\n",
    "    for gate in gates:\n",
    "        togo = []#최대intensity, 코스\n",
    "        heapq.heappush(togo,(0, gate))\n",
    "        \n",
    "        while togo:\n",
    "            \n",
    "            now = heapq.heappop(togo)\n",
    "                \n",
    "            if now[1] in summits:\n",
    "                if now[0] < answer[1] or (now[0] == answer[1] and now[1] < answer[0]):\n",
    "                    answer = [now[1], now[0]]\n",
    "                    \n",
    "            else:\n",
    "                for path in graph[now[1]]:\n",
    "                    if visited[path[1]] > max(path[0], now[0]) :\n",
    "                        visited[path[1]] =  max(path[0], now[0])\n",
    "                        heapq.heappush(togo, ((visited[path[1]],)+(path[1],)))\n",
    "                                \n",
    "                \n",
    "    return answer"
   ]
  },
  {
   "cell_type": "code",
   "execution_count": 108,
   "metadata": {},
   "outputs": [
    {
     "data": {
      "text/plain": [
       "[5, 1]"
      ]
     },
     "execution_count": 108,
     "metadata": {},
     "output_type": "execute_result"
    }
   ],
   "source": [
    "solution(\t7, [[1, 2, 5], [1, 4, 1], [2, 3, 1], [2, 6, 7], [4, 5, 1], [5, 6, 1], [6, 7, 1]], [3, 7], [1, 5])"
   ]
  },
  {
   "cell_type": "code",
   "execution_count": 52,
   "metadata": {},
   "outputs": [
    {
     "data": {
      "text/plain": [
       "[1, 2, 3, 4, 5, 6, 7]"
      ]
     },
     "execution_count": 52,
     "metadata": {},
     "output_type": "execute_result"
    }
   ],
   "source": [
    "togo = [1,2,3,4,5,6,7]\n",
    "heapq.heapify(togo)\n",
    "togo"
   ]
  },
  {
   "cell_type": "code",
   "execution_count": 50,
   "metadata": {},
   "outputs": [
    {
     "data": {
      "text/plain": [
       "1"
      ]
     },
     "execution_count": 50,
     "metadata": {},
     "output_type": "execute_result"
    }
   ],
   "source": [
    "heapq.heappop(togo)"
   ]
  },
  {
   "cell_type": "code",
   "execution_count": 19,
   "metadata": {},
   "outputs": [],
   "source": [
    "import sys, io\n",
    "\n",
    "file = open(\"inputs.txt\", 'w')\n",
    "# 다음 데이터에 그대로 여러 데이터를 복사붙여넣기 하면 됨\n",
    "data = \"\"\"3\n",
    "-5 1 5 1\n",
    "3\n",
    "0 0 2\n",
    "-6 1 2\n",
    "6 2 2\n",
    "2 3 13 2\n",
    "8\n",
    "-3 -1 1\n",
    "2 2 3\n",
    "2 3 1\n",
    "0 1 7\n",
    "-4 5 1\n",
    "12 1 1\n",
    "12 1 2\n",
    "12 1 3\n",
    "102 16 19 -108\n",
    "12\n",
    "-107 175 135\n",
    "-38 -115 42\n",
    "140 23 70\n",
    "148 -2 39\n",
    "-198 -49 89\n",
    "172 -151 39\n",
    "-179 -52 43\n",
    "148 42 150\n",
    "176 0 10\n",
    "153 68 120\n",
    "-56 109 16\n",
    "-187 -174 8\n",
    "\"\"\"\n",
    "file.write(data)\n",
    "file.close()\n",
    "\n",
    "input_file = open(\"inputs.txt\", \"r\") \n",
    "sys.stdin = io.StringIO(input_file.read())"
   ]
  },
  {
   "cell_type": "code",
   "execution_count": 20,
   "metadata": {},
   "outputs": [
    {
     "name": "stdout",
     "output_type": "stream",
     "text": [
      "2\n",
      "5\n",
      "3\n"
     ]
    }
   ],
   "source": [
    "import sys\n",
    "input= sys.stdin.readline\n",
    "n = int(input())\n",
    "\n",
    "for _ in range(n):\n",
    "    x1,y1,x2,y2 =  map(int, input().split())\n",
    "    ans = 0\n",
    "    t =  int(input())\n",
    "    for _ in range(t):\n",
    "        cx, cy, r = map(int, input().split())\n",
    "        dist1 = ((x1-cx)**2+(y1-cy)**2)**.5\n",
    "        dist2 = ((x2-cx)**2+(y2-cy)**2)**.5\n",
    "\n",
    "        if dist1 < r and dist2 < r:\n",
    "            pass\n",
    "        elif dist1 < r or dist2 < r:\n",
    "            ans += 1\n",
    "\n",
    "    print(ans)    "
   ]
  },
  {
   "cell_type": "code",
   "execution_count": 36,
   "metadata": {},
   "outputs": [],
   "source": [
    "import sys, io\n",
    "\n",
    "file = open(\"inputs.txt\", 'w')\n",
    "# 다음 데이터에 그대로 여러 데이터를 복사붙여넣기 하면 됨\n",
    "data = \"\"\"20 10 0 0 14\n",
    "-5 5\n",
    "-4 2\n",
    "-4 8\n",
    "-3 1\n",
    "-3 9\n",
    "0 0\n",
    "0 10\n",
    "20 0\n",
    "20 10\n",
    "23 1\n",
    "23 9\n",
    "24 2\n",
    "24 8\n",
    "25 5\n",
    "\"\"\"\n",
    "file.write(data)\n",
    "file.close()\n",
    "\n",
    "input_file = open(\"inputs.txt\", \"r\") \n",
    "sys.stdin = io.StringIO(input_file.read())"
   ]
  },
  {
   "cell_type": "code",
   "execution_count": 37,
   "metadata": {},
   "outputs": [
    {
     "name": "stdout",
     "output_type": "stream",
     "text": [
      "14\n"
     ]
    }
   ],
   "source": [
    "import sys\n",
    "input= sys.stdin.readline\n",
    "W, H, X, Y, P = map(int, input().split())\n",
    "ans = 0\n",
    "for _ in range(P):\n",
    "    x1, y1 = map(int, input().split())\n",
    "    dist1 = ((X-x1)**2+(Y+H/2-y1)**2)**.5\n",
    "    dist2 = ((X+W-x1)**2+(Y+H/2-y1)**2)**.5\n",
    "\n",
    "    if dist1 <= H/2 or dist2 <= H/2 or (X <= x1 <= X+W and Y <= y1 <= Y+H):\n",
    "        ans += 1\n",
    "print(ans)"
=======
    "from collections import defaultdict\n",
    "\n",
    "a = defaultdict(int)\n",
    "\n",
    "a['a'] += 1\n",
    "a.get('v',0)"
>>>>>>> c1dfa09054bb2841870bdc12412f520cc45bd922
   ]
  },
  {
   "cell_type": "code",
   "execution_count": 11,
   "metadata": {},
   "outputs": [],
   "source": [
    "a = [[1,2]]* 10000\n",
    "b = [[8,2],[8,4],[8,6]]"
   ]
  },
  {
   "cell_type": "code",
   "execution_count": 46,
   "metadata": {},
   "outputs": [
    {
     "data": {
      "text/plain": [
       "[(5, 3, 1), (6, 4, 2)]"
      ]
     },
     "execution_count": 46,
     "metadata": {},
     "output_type": "execute_result"
    }
   ],
   "source": [
    "a =  [ i[::-1] for i in zip(*a)]\n",
    "a"
   ]
  },
  {
   "cell_type": "code",
   "execution_count": 21,
   "metadata": {},
   "outputs": [
    {
     "name": "stdout",
     "output_type": "stream",
     "text": [
      "(1, 3, 5)\n",
      "(2, 4, 6)\n"
     ]
    }
   ],
   "source": [
    "for i in zip(*a):\n",
    "    print(i)"
   ]
  },
  {
   "cell_type": "code",
   "execution_count": 66,
   "metadata": {},
   "outputs": [
    {
     "data": {
      "text/plain": [
       "18"
      ]
     },
     "execution_count": 66,
     "metadata": {},
     "output_type": "execute_result"
    }
   ],
   "source": [
    "int('33', 5)"
   ]
  },
  {
   "cell_type": "code",
   "execution_count": 17,
   "metadata": {},
   "outputs": [
    {
     "name": "stdout",
     "output_type": "stream",
     "text": [
      "701 µs ± 1.01 µs per loop (mean ± std. dev. of 7 runs, 1,000 loops each)\n"
     ]
    }
   ],
   "source": [
    "%%timeit\n",
    "len(set([ tuple(i) for i in a]))"
   ]
  },
  {
   "cell_type": "code",
   "execution_count": 18,
   "metadata": {},
   "outputs": [
    {
     "name": "stdout",
     "output_type": "stream",
     "text": [
      "516 µs ± 280 ns per loop (mean ± std. dev. of 7 runs, 1,000 loops each)\n"
     ]
    }
   ],
   "source": [
    "%%timeit\n",
    "len(set(map(tuple, a)))"
   ]
  },
  {
   "cell_type": "code",
   "execution_count": 25,
   "metadata": {},
   "outputs": [],
   "source": [
    "a = [[1,2,3],[4,5,6],[7,8,9]]"
   ]
  },
  {
   "cell_type": "code",
   "execution_count": 39,
   "metadata": {},
   "outputs": [
    {
     "data": {
      "text/plain": [
       "[[7, 4, 1], [8, 5, 2], [9, 6, 3]]"
      ]
     },
     "execution_count": 39,
     "metadata": {},
     "output_type": "execute_result"
    }
   ],
   "source": [
    "[ list(i[::-1]) for i in zip(*a)]"
   ]
  },
  {
   "cell_type": "code",
   "execution_count": 24,
   "metadata": {},
   "outputs": [
    {
     "name": "stdout",
     "output_type": "stream",
     "text": [
      "1 2 3\n"
     ]
    }
   ],
   "source": [
    "a= [1,2,3]\n",
    "print(*a)"
   ]
  },
  {
   "cell_type": "code",
   "execution_count": 22,
   "metadata": {},
   "outputs": [
    {
     "name": "stdout",
     "output_type": "stream",
     "text": [
      "1 2\n",
      "1 3\n",
      "1 4\n",
      "2 1\n",
      "2 3\n",
      "2 4\n",
      "3 1\n",
      "3 2\n",
      "3 4\n",
      "4 1\n",
      "4 2\n",
      "4 3\n"
     ]
    }
   ],
   "source": [
    "n ,m =  map(int, input().split())\n",
    "s = []\n",
    "def dfs():\n",
    "    if len(s) == m :\n",
    "        print(*s, sep=\" \")\n",
    "        return\n",
    "    \n",
    "    for i in range(1, n+1):\n",
    "        if i not in s:\n",
    "            s.append(i)\n",
    "            dfs()\n",
    "            s.pop()\n",
    "dfs()"
   ]
  },
  {
   "cell_type": "code",
   "execution_count": 68,
   "metadata": {},
   "outputs": [],
   "source": [
    "def solution(n, paths, gates, summits):\n",
    "    answer = [0,0]\n",
    "    \n",
    "    \n",
    "    paths_len = len(paths)\n",
    "    for i in range(paths_len):\n",
    "        paths.append([paths[i][1], paths[i][0], paths[i][2]])\n",
    "        \n",
    "    for gate in gates:\n",
    "        togo = [[[0,gate], 0]]# 현재 코스, 최대intensity\n",
    "        \n",
    "        while togo:\n",
    "            \n",
    "            now = togo.pop()\n",
    "\n",
    "            for path in paths:\n",
    "                now2 = [now[0].copy(), now[1]]\n",
    "                if now2[0][-1] == gate and now2[0][0] != 0:\n",
    "                    if answer ==[0,0]:\n",
    "                        answer = [now2[0][0], now2[1]]\n",
    "                        \n",
    "                    else:  \n",
    "                        answer = sorted((answer,[now2[0][0], now2[1]]), key= lambda x:(x[1],x[0]))[0]\n",
    "                elif now2[0][-1] in gates and now2[0][0] in summits:\n",
    "                    continue\n",
    "                \n",
    "                \n",
    "                if path[0] == now2[0][-1]:\n",
    "                    if path[1] not in now2[0] and now2[0][0] == 0 and path[1] not in gates:\n",
    "                        if path[1] in summits:\n",
    "                            now2[0] = []\n",
    "                        now2[0].append(path[1])\n",
    "                        now2[1] = max(now2[1],path[2])\n",
    "                        \n",
    "                        if now2 not in togo:\n",
    "                            togo.append(now2)\n",
    "                        \n",
    "                    \n",
    "                    elif path[1] not in now2[0] and now2[0][0] != 0 and path[1] not in summits:\n",
    "                        \n",
    "                        now2[0].append(path[1])\n",
    "                        now2[1] = max(now2[1],path[2])\n",
    "                        if now2 not in togo:\n",
    "                            togo.append(now2)\n",
    "                            \n",
    "                    \n",
    "    return answer"
   ]
  },
  {
   "cell_type": "code",
   "execution_count": 69,
   "metadata": {},
   "outputs": [
    {
     "data": {
      "text/plain": [
       "[5, 3]"
      ]
     },
     "execution_count": 69,
     "metadata": {},
     "output_type": "execute_result"
    }
   ],
   "source": [
    "solution(6,[[1, 2, 3], [2, 3, 5], [2, 4, 2], [2, 5, 4], [3, 4, 4], [4, 5, 3], [4, 6, 1], [5, 6, 1]],[1, 3],[5])"
   ]
  },
  {
   "cell_type": "code",
   "execution_count": 9,
   "metadata": {},
   "outputs": [
    {
     "data": {
      "text/plain": [
       "False"
      ]
     },
     "execution_count": 9,
     "metadata": {},
     "output_type": "execute_result"
    }
   ],
   "source": [
    "100000000000 > float('inf')"
   ]
  },
  {
   "cell_type": "code",
   "execution_count": 54,
   "metadata": {},
   "outputs": [],
   "source": [
    "def solution(alp, cop, problems):\n",
    "    max_alp = alp\n",
    "    max_cop = cop\n",
    "    for al_r, co_r,_,_,_ in problems:\n",
    "        max_alp = max(max_alp, al_r)\n",
    "        alp = min(alp, al_r)\n",
    "        max_cop = max(max_cop, co_r)\n",
    "        cop = min(cop, co_r)\n",
    "    \n",
    "    dp = [[float('inf')]*(max_cop+1) for _ in range(max_alp +1)]\n",
    "    \n",
    "    dp[alp][cop] = 0\n",
    "    \n",
    "    for i in range(alp, max_alp+1):\n",
    "        for j in range(cop, max_cop+1):\n",
    "            \n",
    "            if i+1 <= max_alp:\n",
    "                dp[i+1][j] = min(dp[i][j]+1, dp[i+1][j])\n",
    "            if j+1 <= max_cop:\n",
    "                dp[i][j+1] = min(dp[i][j]+1, dp[i][j+1])\n",
    "            \n",
    "            for alp_req, cop_req, alp_rwd, cop_rwd, cost in problems:\n",
    "                if i >= alp_req and j >= cop_req:\n",
    "                    next_alp, next_cop = min(max_alp, i+alp_rwd), min(max_cop, j+cop_rwd)\n",
    "                    dp[next_alp][next_cop] = min(dp[next_alp][next_cop], dp[i][j]+ cost)\n",
    "    \n",
    "    return dp[-1][-1]"
   ]
  },
  {
   "cell_type": "code",
   "execution_count": 55,
   "metadata": {},
   "outputs": [
    {
     "name": "stdout",
     "output_type": "stream",
     "text": [
      "[[0, 1, 2, 3, 4, 5, 6, 7, 8, 9, 10, 11], [1, 2, 3, 4, 5, 6, 7, 8, 9, 10, 11, 12], [2, 2, 3, 4, 5, 6, 7, 8, 9, 10, 11, 12], [3, 3, 4, 5, 6, 7, 8, 9, 10, 11, 12, 13], [4, 4, 4, 5, 6, 7, 8, 9, 10, 11, 12, 13], [5, 5, 5, 6, 7, 8, 9, 10, 11, 12, 13, 14], [6, 6, 6, 6, 7, 8, 9, 10, 11, 12, 13, 14], [7, 7, 7, 7, 8, 9, 9, 10, 11, 12, 13, 14], [8, 8, 8, 8, 8, 9, 10, 11, 12, 13, 14, 15], [9, 9, 9, 9, 9, 10, 10, 11, 12, 13, 14, 15], [10, 10, 10, 10, 10, 10, 11, 11, 12, 12, 13, 13]]\n"
     ]
    },
    {
     "data": {
      "text/plain": [
       "13"
      ]
     },
     "execution_count": 55,
     "metadata": {},
     "output_type": "execute_result"
    }
   ],
   "source": [
    "solution(0,0,[[0,0,2,1,2],[4,5,3,1,2],[4,11,4,0,2],[10,4,0,4,2]])"
   ]
  },
  {
   "cell_type": "code",
   "execution_count": 52,
   "metadata": {},
   "outputs": [],
   "source": [
    "def solution(alp, cop, problems):\n",
    "   max_alp = 0\n",
    "   max_cop = 0\n",
    "   time = 0\n",
    "   for a,b,c,d,e in problems:\n",
    "       max_alp = max(max_alp,a)\n",
    "       max_cop = max(max_cop,b)\n",
    "       time += e\n",
    "   # 목표 알고력\n",
    "   alp = min(alp, max_alp)\n",
    "   cop = min(cop, max_cop)\n",
    "   INF = float('inf')\n",
    "   dp = [[INF]*(max_cop + 1) for _ in range(max_alp + 1)]\n",
    "   dp[alp][cop] = 0\n",
    "   \n",
    "   for i in range(alp, max_alp + 1):\n",
    "       for j in range(cop, max_cop + 1):\n",
    "           if i + 1 <= max_alp:\n",
    "               dp[i + 1][j    ] = min (dp[i + 1][j    ],dp[i][j] + 1)\n",
    "           if j + 1 <= max_cop:\n",
    "               dp[i    ][j + 1] = min (dp[i    ][j + 1],dp[i][j] + 1)\n",
    "\n",
    "           for alp_req,cop_req,alp_rwd,cop_rwd,cost in problems:\n",
    "               if i >= alp_req and j >= cop_req:\n",
    "                   next_alp,next_cop = min(max_alp,i + alp_rwd), min(max_cop,j + cop_rwd)\n",
    "                   dp[next_alp][next_cop] = min(dp[next_alp][next_cop],dp[i][j] + cost)\n",
    "   print(dp)\n",
    "   return dp[-1][-1] "
   ]
  },
  {
   "cell_type": "code",
   "execution_count": 53,
   "metadata": {},
   "outputs": [
    {
     "name": "stdout",
     "output_type": "stream",
     "text": [
      "[[0, 1, 2, 3, 4, 5, 6, 7, 8, 9, 10, 11], [1, 2, 3, 4, 5, 6, 7, 8, 9, 10, 11, 12], [2, 2, 3, 4, 5, 6, 7, 8, 9, 10, 11, 12], [3, 3, 4, 5, 6, 7, 8, 9, 10, 11, 12, 13], [4, 4, 4, 5, 6, 7, 8, 9, 10, 11, 12, 13], [5, 5, 5, 6, 7, 8, 9, 10, 11, 12, 13, 14], [6, 6, 6, 6, 7, 8, 9, 10, 11, 12, 13, 14], [7, 7, 7, 7, 8, 9, 9, 10, 11, 12, 13, 14], [8, 8, 8, 8, 8, 9, 10, 11, 12, 13, 14, 15], [9, 9, 9, 9, 9, 10, 10, 11, 12, 13, 14, 15], [10, 10, 10, 10, 10, 10, 11, 11, 12, 12, 13, 13]]\n"
     ]
    },
    {
     "data": {
      "text/plain": [
       "13"
      ]
     },
     "execution_count": 53,
     "metadata": {},
     "output_type": "execute_result"
    }
   ],
   "source": [
    "solution(0,0,[[0,0,2,1,2],[4,5,3,1,2],[4,11,4,0,2],[10,4,0,4,2]])"
   ]
  },
  {
   "cell_type": "code",
   "execution_count": 63,
   "metadata": {},
   "outputs": [],
   "source": [
    "info = [\"java backend junior pizza 150\",\"python frontend senior chicken 210\",\"python frontend senior chicken 150\",\"cpp backend senior pizza 260\",\"java backend junior chicken 80\",\"python backend senior chicken 50\"]\n",
    "tab = [tuple(i.split()) for i in info]"
   ]
  },
  {
   "cell_type": "code",
   "execution_count": 64,
   "metadata": {},
   "outputs": [
    {
     "data": {
      "text/plain": [
       "[('java', 'backend', 'junior', 'pizza', '150'),\n",
       " ('python', 'frontend', 'senior', 'chicken', '210'),\n",
       " ('python', 'frontend', 'senior', 'chicken', '150'),\n",
       " ('cpp', 'backend', 'senior', 'pizza', '260'),\n",
       " ('java', 'backend', 'junior', 'chicken', '80'),\n",
       " ('python', 'backend', 'senior', 'chicken', '50')]"
      ]
     },
     "execution_count": 64,
     "metadata": {},
     "output_type": "execute_result"
    }
   ],
   "source": [
    "tab"
   ]
  },
  {
   "cell_type": "code",
   "execution_count": 71,
   "metadata": {},
   "outputs": [],
   "source": [
    "query = [\"java and backend and junior and pizza 100\",\"python and frontend and senior and chicken 200\",\"cpp and - and senior and pizza 250\",\"- and backend and senior and - 150\",\"- and - and - and chicken 100\",\"- and - and - and - 150\"]\n",
    "qq = []\n",
    "for i in query:\n",
    "    i = i.replace('and', '')\n",
    "    qq.append(tuple(i.split()))\n"
   ]
  },
  {
   "cell_type": "code",
   "execution_count": 72,
   "metadata": {},
   "outputs": [
    {
     "data": {
      "text/plain": [
       "[('java', 'backend', 'junior', 'pizza', '100'),\n",
       " ('python', 'frontend', 'senior', 'chicken', '200'),\n",
       " ('cpp', '-', 'senior', 'pizza', '250'),\n",
       " ('-', 'backend', 'senior', '-', '150'),\n",
       " ('-', '-', '-', 'chicken', '100'),\n",
       " ('-', '-', '-', '-', '150')]"
      ]
     },
     "execution_count": 72,
     "metadata": {},
     "output_type": "execute_result"
    }
   ],
   "source": [
    "qq"
   ]
  },
  {
   "cell_type": "code",
   "execution_count": 73,
   "metadata": {},
   "outputs": [
    {
     "ename": "IndexError",
     "evalue": "list assignment index out of range",
     "output_type": "error",
     "traceback": [
      "\u001b[0;31m---------------------------------------------------------------------------\u001b[0m",
      "\u001b[0;31mIndexError\u001b[0m                                Traceback (most recent call last)",
      "\u001b[1;32m/Users/krc/Desktop/수업자료/# 스터디/baekjoon/trying.ipynb 셀 36\u001b[0m in \u001b[0;36m<cell line: 2>\u001b[0;34m()\u001b[0m\n\u001b[1;32m      <a href='vscode-notebook-cell:/Users/krc/Desktop/%E1%84%89%E1%85%AE%E1%84%8B%E1%85%A5%E1%86%B8%E1%84%8C%E1%85%A1%E1%84%85%E1%85%AD/%23%20%E1%84%89%E1%85%B3%E1%84%90%E1%85%A5%E1%84%83%E1%85%B5/baekjoon/trying.ipynb#X51sZmlsZQ%3D%3D?line=0'>1</a>\u001b[0m a \u001b[39m=\u001b[39m[]\n\u001b[0;32m----> <a href='vscode-notebook-cell:/Users/krc/Desktop/%E1%84%89%E1%85%AE%E1%84%8B%E1%85%A5%E1%86%B8%E1%84%8C%E1%85%A1%E1%84%85%E1%85%AD/%23%20%E1%84%89%E1%85%B3%E1%84%90%E1%85%A5%E1%84%83%E1%85%B5/baekjoon/trying.ipynb#X51sZmlsZQ%3D%3D?line=1'>2</a>\u001b[0m a[\u001b[39m0\u001b[39m] \u001b[39m=\u001b[39m \u001b[39m1\u001b[39m\n",
      "\u001b[0;31mIndexError\u001b[0m: list assignment index out of range"
     ]
    }
   ],
   "source": [
    "qq = tuple(query[i].replace('and', '').split())"
   ]
  },
  {
   "cell_type": "code",
   "execution_count": null,
   "metadata": {},
   "outputs": [],
   "source": [
    "def solution(info, query):\n",
    "    tab = [tuple(i.split()) for i in info]\n",
    "    answer = []\n",
    "    \n",
    "    \n",
    "    for i in range(len(query)):\n",
    "        \n",
    "        qq = tuple(query[i].replace('and', '').split())\n",
    "        answer.append(0)\n",
    "                   \n",
    "        for j in tab:\n",
    "            temp = 0\n",
    "            for k in range(5):\n",
    "                   if k == 4 and qq[k] != '-' and int(j[k]) >= int(qq[k]):\n",
    "                        temp += 1\n",
    "                   elif qq[k] != '-' and qq[k] == j[k]:\n",
    "                        temp += 1\n",
    "                   elif qq[k] == '-':\n",
    "                        temp += 1\n",
    "            if temp == 5:\n",
    "                   answer[i] += 1\n",
    "        \n",
    "        \n",
    "    return answer"
   ]
  },
  {
   "cell_type": "code",
   "execution_count": 92,
   "metadata": {},
   "outputs": [],
   "source": [
    "from collections import defaultdict\n",
    "\n",
    "a = defaultdict(int)\n",
    "\n",
    "a['aaa'] = 1"
   ]
  },
  {
   "cell_type": "code",
   "execution_count": 93,
   "metadata": {},
   "outputs": [],
   "source": [
    "a['bbb'] = 2"
   ]
  },
  {
   "cell_type": "code",
   "execution_count": 94,
   "metadata": {},
   "outputs": [
    {
     "data": {
      "text/plain": [
       "defaultdict(int, {'aaa': 1, 'bbb': 2})"
      ]
     },
     "execution_count": 94,
     "metadata": {},
     "output_type": "execute_result"
    }
   ],
   "source": [
    "a"
   ]
  },
  {
   "cell_type": "code",
   "execution_count": 100,
   "metadata": {},
   "outputs": [
    {
     "data": {
      "text/plain": [
       "0"
      ]
     },
     "execution_count": 100,
     "metadata": {},
     "output_type": "execute_result"
    }
   ],
   "source": [
    "a['aaa','-']"
   ]
  },
  {
   "cell_type": "code",
   "execution_count": 99,
   "metadata": {},
   "outputs": [
    {
     "data": {
      "text/plain": [
       "defaultdict(int, {'aaa': 1, 'bbb': 2, ('aaa', 'bbb'): 2})"
      ]
     },
     "execution_count": 99,
     "metadata": {},
     "output_type": "execute_result"
    }
   ],
   "source": [
    "a"
   ]
  },
  {
   "cell_type": "code",
   "execution_count": 110,
   "metadata": {},
   "outputs": [],
   "source": [
    "from itertools import product\n",
    "\n",
    "def solution(info, query):\n",
    "    answer = []\n",
    "    dic = dict()\n",
    "    for i in ('cpp','java','python','-'):\n",
    "        dic[i] = dict()\n",
    "        for j in ('backend','frontend','-'):\n",
    "            dic[i][j] = dict()\n",
    "            for k in ('junior', 'senior','-'):\n",
    "                dic[i][j][k] = dict()\n",
    "                for l in ('chicken', 'pizza','-'):\n",
    "                    dic[i][j][k][l] = list()\n",
    "    \n",
    "    for i in info:\n",
    "        \n",
    "        f = '-'\n",
    "        for j in product((1,0), repeat=4):\n",
    "            a,b,c,d,e = i.split()\n",
    "            if j[0] == 1: a = f \n",
    "            if j[1] == 1: b = f \n",
    "            if j[2] == 1: c = f \n",
    "            if j[3] == 1: d = f \n",
    "                \n",
    "            dic[a][b][c][d].append(int(e))\n",
    "    \n",
    "    \n",
    "    \n",
    "    for i in range(len(query)):\n",
    "        \n",
    "        a,b,c,d,e = query[i].replace('and', '').split()\n",
    "        answer.append(0)\n",
    "\n",
    "        for j in dic[a][b][c][d]:\n",
    "            if j >= int(e):\n",
    "                answer[i] += 1\n",
    "    print(dic)  \n",
    "        \n",
    "    return answer"
   ]
  },
  {
   "cell_type": "code",
   "execution_count": 111,
   "metadata": {},
   "outputs": [
    {
     "name": "stdout",
     "output_type": "stream",
     "text": [
      "{'cpp': {'backend': {'junior': {'chicken': [], 'pizza': [], '-': []}, 'senior': {'chicken': [], 'pizza': [260], '-': [260]}, '-': {'chicken': [], 'pizza': [260], '-': [260]}}, 'frontend': {'junior': {'chicken': [], 'pizza': [], '-': []}, 'senior': {'chicken': [], 'pizza': [], '-': []}, '-': {'chicken': [], 'pizza': [], '-': []}}, '-': {'junior': {'chicken': [], 'pizza': [], '-': []}, 'senior': {'chicken': [], 'pizza': [260], '-': [260]}, '-': {'chicken': [], 'pizza': [260], '-': [260]}}}, 'java': {'backend': {'junior': {'chicken': [80], 'pizza': [150], '-': [150, 80]}, 'senior': {'chicken': [], 'pizza': [], '-': []}, '-': {'chicken': [80], 'pizza': [150], '-': [150, 80]}}, 'frontend': {'junior': {'chicken': [], 'pizza': [], '-': []}, 'senior': {'chicken': [], 'pizza': [], '-': []}, '-': {'chicken': [], 'pizza': [], '-': []}}, '-': {'junior': {'chicken': [80], 'pizza': [150], '-': [150, 80]}, 'senior': {'chicken': [], 'pizza': [], '-': []}, '-': {'chicken': [80], 'pizza': [150], '-': [150, 80]}}}, 'python': {'backend': {'junior': {'chicken': [], 'pizza': [], '-': []}, 'senior': {'chicken': [50], 'pizza': [], '-': [50]}, '-': {'chicken': [50], 'pizza': [], '-': [50]}}, 'frontend': {'junior': {'chicken': [], 'pizza': [], '-': []}, 'senior': {'chicken': [210, 150], 'pizza': [], '-': [210, 150]}, '-': {'chicken': [210, 150], 'pizza': [], '-': [210, 150]}}, '-': {'junior': {'chicken': [], 'pizza': [], '-': []}, 'senior': {'chicken': [210, 150, 50], 'pizza': [], '-': [210, 150, 50]}, '-': {'chicken': [210, 150, 50], 'pizza': [], '-': [210, 150, 50]}}}, '-': {'backend': {'junior': {'chicken': [80], 'pizza': [150], '-': [150, 80]}, 'senior': {'chicken': [50], 'pizza': [260], '-': [260, 50]}, '-': {'chicken': [80, 50], 'pizza': [150, 260], '-': [150, 260, 80, 50]}}, 'frontend': {'junior': {'chicken': [], 'pizza': [], '-': []}, 'senior': {'chicken': [210, 150], 'pizza': [], '-': [210, 150]}, '-': {'chicken': [210, 150], 'pizza': [], '-': [210, 150]}}, '-': {'junior': {'chicken': [80], 'pizza': [150], '-': [150, 80]}, 'senior': {'chicken': [210, 150, 50], 'pizza': [260], '-': [210, 150, 260, 50]}, '-': {'chicken': [210, 150, 80, 50], 'pizza': [150, 260], '-': [150, 210, 150, 260, 80, 50]}}}}\n"
     ]
    },
    {
     "data": {
      "text/plain": [
       "[1, 1, 1, 1, 2, 4]"
      ]
     },
     "execution_count": 111,
     "metadata": {},
     "output_type": "execute_result"
    }
   ],
   "source": [
    "solution([\"java backend junior pizza 150\",\"python frontend senior chicken 210\",\"python frontend senior chicken 150\",\"cpp backend senior pizza 260\",\"java backend junior chicken 80\",\"python backend senior chicken 50\"],[\"java and backend and junior and pizza 100\",\"python and frontend and senior and chicken 200\",\"cpp and - and senior and pizza 250\",\"- and backend and senior and - 150\",\"- and - and - and chicken 100\",\"- and - and - and - 150\"])"
   ]
  },
  {
   "cell_type": "code",
   "execution_count": 105,
   "metadata": {},
   "outputs": [
    {
     "name": "stdout",
     "output_type": "stream",
     "text": [
      "(1, 1, 1, 1)\n",
      "(1, 1, 1, 0)\n",
      "(1, 1, 0, 1)\n",
      "(1, 1, 0, 0)\n",
      "(1, 0, 1, 1)\n",
      "(1, 0, 1, 0)\n",
      "(1, 0, 0, 1)\n",
      "(1, 0, 0, 0)\n",
      "(0, 1, 1, 1)\n",
      "(0, 1, 1, 0)\n",
      "(0, 1, 0, 1)\n",
      "(0, 1, 0, 0)\n",
      "(0, 0, 1, 1)\n",
      "(0, 0, 1, 0)\n",
      "(0, 0, 0, 1)\n",
      "(0, 0, 0, 0)\n"
     ]
    }
   ],
   "source": [
    "for i in product((1,0), repeat=4):\n",
    "    print(i)"
   ]
  },
  {
   "cell_type": "code",
   "execution_count": null,
   "metadata": {},
   "outputs": [],
   "source": []
  }
 ],
 "metadata": {
  "kernelspec": {
   "display_name": "Python 3.9.12 ('hong')",
   "language": "python",
   "name": "python3"
  },
  "language_info": {
   "codemirror_mode": {
    "name": "ipython",
    "version": 3
   },
   "file_extension": ".py",
   "mimetype": "text/x-python",
   "name": "python",
   "nbconvert_exporter": "python",
   "pygments_lexer": "ipython3",
   "version": "3.9.12"
  },
  "orig_nbformat": 4,
  "vscode": {
   "interpreter": {
    "hash": "996becb82b76d6125b53ee3d40844ebd88897a7912ca24d4d0461d0f4ffb73a8"
   }
  }
 },
 "nbformat": 4,
 "nbformat_minor": 2
}

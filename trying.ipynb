{
 "cells": [
  {
   "cell_type": "code",
   "execution_count": 26,
   "metadata": {},
   "outputs": [],
   "source": [
    "import sys, io\n",
    "\n",
    "file = open(\"inputs.txt\", 'w')\n",
    "# 다음 데이터에 그대로 여러 데이터를 복사붙여넣기 하면 됨\n",
    "data = \"\"\"3 4\n",
    "ohhenrie\n",
    "charlie\n",
    "baesangwook\n",
    "obama\n",
    "baesangwook\n",
    "ohhenrie\n",
    "clinton\n",
    "\"\"\"\n",
    "file.write(data)\n",
    "file.close()\n",
    "\n",
    "input_file = open(\"inputs.txt\", \"r\") \n",
    "sys.stdin = io.StringIO(input_file.read())"
   ]
  },
  {
   "cell_type": "code",
   "execution_count": 27,
   "metadata": {},
   "outputs": [
    {
     "name": "stdout",
     "output_type": "stream",
     "text": [
      "2\n",
      "baesangwook\n",
      "ohhenrie\n"
     ]
    }
   ],
   "source": [
    "import sys\n",
    "input = sys.stdin.readline\n",
    "\n",
    "n, m = map(int, input().split())\n",
    "n_list = sorted([input().strip() for _ in range(n)])\n",
    "n_list = { i:0 for i in n_list }\n",
    "\n",
    "for _ in range(m):\n",
    "    word = input().strip()\n",
    "    if word in n_list:\n",
    "        n_list[word] += 1\n",
    "print(sum(n_list.values()))\n",
    "for k,v in n_list.items():\n",
    "    if v:\n",
    "        print(k)"
   ]
  },
  {
   "cell_type": "code",
   "execution_count": 1,
   "metadata": {},
   "outputs": [
    {
     "ename": "ValueError",
     "evalue": "not enough values to unpack (expected 2, got 0)",
     "output_type": "error",
     "traceback": [
      "\u001b[0;31m---------------------------------------------------------------------------\u001b[0m",
      "\u001b[0;31mValueError\u001b[0m                                Traceback (most recent call last)",
      "\u001b[1;32m/Users/krc/Desktop/수업자료/# 스터디/baekjoon/trying.ipynb 셀 3\u001b[0m in \u001b[0;36m<cell line: 6>\u001b[0;34m()\u001b[0m\n\u001b[1;32m      <a href='vscode-notebook-cell:/Users/krc/Desktop/%E1%84%89%E1%85%AE%E1%84%8B%E1%85%A5%E1%86%B8%E1%84%8C%E1%85%A1%E1%84%85%E1%85%AD/%23%20%E1%84%89%E1%85%B3%E1%84%90%E1%85%A5%E1%84%83%E1%85%B5/baekjoon/trying.ipynb#ch0000002?line=3'>4</a>\u001b[0m nums \u001b[39m=\u001b[39m [\u001b[39m0\u001b[39m]\u001b[39m*\u001b[39m\u001b[39m200000\u001b[39m\n\u001b[1;32m      <a href='vscode-notebook-cell:/Users/krc/Desktop/%E1%84%89%E1%85%AE%E1%84%8B%E1%85%A5%E1%86%B8%E1%84%8C%E1%85%A1%E1%84%85%E1%85%AD/%23%20%E1%84%89%E1%85%B3%E1%84%90%E1%85%A5%E1%84%83%E1%85%B5/baekjoon/trying.ipynb#ch0000002?line=4'>5</a>\u001b[0m count \u001b[39m=\u001b[39m \u001b[39m0\u001b[39m\n\u001b[0;32m----> <a href='vscode-notebook-cell:/Users/krc/Desktop/%E1%84%89%E1%85%AE%E1%84%8B%E1%85%A5%E1%86%B8%E1%84%8C%E1%85%A1%E1%84%85%E1%85%AD/%23%20%E1%84%89%E1%85%B3%E1%84%90%E1%85%A5%E1%84%83%E1%85%B5/baekjoon/trying.ipynb#ch0000002?line=5'>6</a>\u001b[0m a, b \u001b[39m=\u001b[39m \u001b[39mmap\u001b[39m(\u001b[39mint\u001b[39m, \u001b[39minput\u001b[39m()\u001b[39m.\u001b[39msplit())\n\u001b[1;32m      <a href='vscode-notebook-cell:/Users/krc/Desktop/%E1%84%89%E1%85%AE%E1%84%8B%E1%85%A5%E1%86%B8%E1%84%8C%E1%85%A1%E1%84%85%E1%85%AD/%23%20%E1%84%89%E1%85%B3%E1%84%90%E1%85%A5%E1%84%83%E1%85%B5/baekjoon/trying.ipynb#ch0000002?line=6'>7</a>\u001b[0m a_list \u001b[39m=\u001b[39m \u001b[39mlist\u001b[39m(\u001b[39mmap\u001b[39m(\u001b[39mint\u001b[39m, \u001b[39minput\u001b[39m()\u001b[39m.\u001b[39msplit()))\n\u001b[1;32m      <a href='vscode-notebook-cell:/Users/krc/Desktop/%E1%84%89%E1%85%AE%E1%84%8B%E1%85%A5%E1%86%B8%E1%84%8C%E1%85%A1%E1%84%85%E1%85%AD/%23%20%E1%84%89%E1%85%B3%E1%84%90%E1%85%A5%E1%84%83%E1%85%B5/baekjoon/trying.ipynb#ch0000002?line=7'>8</a>\u001b[0m b_list \u001b[39m=\u001b[39m \u001b[39mlist\u001b[39m(\u001b[39mmap\u001b[39m(\u001b[39mint\u001b[39m, \u001b[39minput\u001b[39m()\u001b[39m.\u001b[39msplit()))\n",
      "\u001b[0;31mValueError\u001b[0m: not enough values to unpack (expected 2, got 0)"
     ]
    }
   ],
   "source": [
    "import sys\n",
    "input = sys.stdin.readline\n",
    "\n",
    "nums = [0]*200000\n",
    "count = 0\n",
    "a, b = map(int, input().split())\n",
    "a_list = list(map(int, input().split()))\n",
    "b_list = list(map(int, input().split()))\n",
    "for i in a_list:\n",
    "    nums[i] = 1\n",
    "for j in a_list:\n",
    "    if nums[j] == 0:\n",
    "        count += 1\n",
    "print(count)"
   ]
  },
  {
   "cell_type": "code",
   "execution_count": 1,
   "metadata": {},
   "outputs": [],
   "source": [
    "def solution(rc, operations):\n",
    "    for i in operations:\n",
    "        if i == 'ShiftRow':\n",
    "            rc = shiftrow(rc)\n",
    "        else:\n",
    "            rc = rotate(rc)\n",
    "    return rc\n",
    "\n",
    "\n",
    "def shiftrow(rc):\n",
    "    rc_ = rc.copy()\n",
    "    for i in range(len(rc)):\n",
    "        if i == len(rc)-1:\n",
    "            rc_[0] = rc[i]\n",
    "        else:\n",
    "            rc_[i+1] = rc[i]\n",
    "    return rc_\n",
    "\n",
    "\n",
    "def rotate(rc):\n",
    "    rc_ = rc.copy()\n",
    "    rc_[0][1:] = rc[0][:-1]\n",
    "    rc_[-1][:-1]= rc[-1][1:]\n",
    "    for i in range(len(rc)-1):\n",
    "        rc_[i][0] = rc[i+1][0]\n",
    "        rc_[i+1][-1] = rc[i][-1]\n",
    "\n",
    "    \n",
    "    return rc_\n",
    "\n"
   ]
  },
  {
   "cell_type": "code",
   "execution_count": 6,
   "metadata": {},
   "outputs": [
    {
     "data": {
      "text/plain": [
       "[[1, 7, 8], [5, 2, 8], [5, 6, 8]]"
      ]
     },
     "execution_count": 6,
     "metadata": {},
     "output_type": "execute_result"
    }
   ],
   "source": [
    "solution([[1, 2, 3], [4, 5, 6], [7, 8, 9]],[\"ShiftRow\",\"Rotate\"])"
   ]
  },
  {
   "cell_type": "code",
   "execution_count": null,
   "metadata": {},
   "outputs": [],
   "source": []
  }
 ],
 "metadata": {
  "kernelspec": {
   "display_name": "Python 3.8.13 ('fastcampus')",
   "language": "python",
   "name": "python3"
  },
  "language_info": {
   "codemirror_mode": {
    "name": "ipython",
    "version": 3
   },
   "file_extension": ".py",
   "mimetype": "text/x-python",
   "name": "python",
   "nbconvert_exporter": "python",
   "pygments_lexer": "ipython3",
   "version": "3.8.13"
  },
  "orig_nbformat": 4,
  "vscode": {
   "interpreter": {
    "hash": "fa1e288ff3583eba50c81541c02a10ffc165d963b08bb79bb7d20fe405ff4da3"
   }
  }
 },
 "nbformat": 4,
 "nbformat_minor": 2
}

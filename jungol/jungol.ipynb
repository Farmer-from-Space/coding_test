{
 "cells": [
  {
   "cell_type": "code",
   "execution_count": 1,
   "id": "f5bcf36e",
   "metadata": {},
   "outputs": [
    {
     "name": "stdout",
     "output_type": "stream",
     "text": [
      "old\n"
     ]
    }
   ],
   "source": [
    "# 참고 https://totoma3.tistory.com/143"
   ]
  },
  {
   "cell_type": "code",
   "execution_count": 10,
   "id": "97b82854",
   "metadata": {},
   "outputs": [
    {
     "name": "stdout",
     "output_type": "stream",
     "text": [
      "A B C D E F G H I J\n",
      "ABCDEFGHIJ\n"
     ]
    }
   ],
   "source": [
    "# 555\n",
    "\n",
    "a =  list(map(str, input().split()))\n",
    "x =\"\"\n",
    "for i in a:\n",
    "    x += i\n",
    "print(x)"
   ]
  },
  {
   "cell_type": "code",
   "execution_count": 21,
   "id": "7bdb0856",
   "metadata": {},
   "outputs": [
    {
     "name": "stdout",
     "output_type": "stream",
     "text": [
      "1 2 3 4 5 6 7 8 9 10\n"
     ]
    }
   ],
   "source": [
    "# 556\n",
    "\n",
    "x = []\n",
    "for i in range(1, 11):\n",
    "    x.append(i)\n",
    "print(*x, sep= \" \")"
   ]
  },
  {
   "cell_type": "code",
   "execution_count": 23,
   "id": "5067f048",
   "metadata": {},
   "outputs": [
    {
     "name": "stdout",
     "output_type": "stream",
     "text": [
      "A B C D E F G H I J\n",
      "A D G\n"
     ]
    }
   ],
   "source": [
    "# 557\n",
    "\n",
    "a =  list(map(str, input().split()))\n",
    "print(a[1-1], a[4-1], a[7-1])"
   ]
  },
  {
   "cell_type": "code",
   "execution_count": 7,
   "id": "4d551e42",
   "metadata": {
    "scrolled": true
   },
   "outputs": [
    {
     "name": "stdout",
     "output_type": "stream",
     "text": [
      "3 5 10 55 0\n",
      "55 10 5 3\n"
     ]
    }
   ],
   "source": [
    "# 558\n",
    "x=[]\n",
    "a =  list(map(int, input().split()))\n",
    "for i in a:\n",
    "    if i != 0:\n",
    "        x.append(i)\n",
    "x.reverse()\n",
    "print(*x, sep= \" \")"
   ]
  },
  {
   "cell_type": "code",
   "execution_count": 14,
   "id": "b8a31187",
   "metadata": {},
   "outputs": [
    {
     "name": "stdout",
     "output_type": "stream",
     "text": [
      "1 3\n",
      "168.7\n"
     ]
    }
   ],
   "source": [
    "# 559\n",
    "\n",
    "score =[85.6, 79.5, 83.1, 80.0, 78.2, 75.0]\n",
    "\n",
    "classroom =  list(map(int, input().split()))\n",
    "total = 0\n",
    "for i in classroom:\n",
    "    total += score[i-1]\n",
    "print(round(total, 1))"
   ]
  },
  {
   "cell_type": "code",
   "execution_count": 16,
   "id": "969f0c3b",
   "metadata": {},
   "outputs": [
    {
     "name": "stdout",
     "output_type": "stream",
     "text": [
      "5 10 8 55 6 31 12 24 61 2\n",
      "2\n"
     ]
    }
   ],
   "source": [
    "#560\n",
    "\n",
    "a =  list(map(int, input().split()))\n",
    "print(min(a))"
   ]
  },
  {
   "cell_type": "code",
   "execution_count": 26,
   "id": "57fe122c",
   "metadata": {},
   "outputs": [
    {
     "name": "stdout",
     "output_type": "stream",
     "text": [
      "88 123 659 15 443 1 99 313 105 48\n",
      "99 105\n"
     ]
    }
   ],
   "source": [
    "#561\n",
    "\n",
    "a =  list(map(int, input().split()))\n",
    "b = []\n",
    "c = []\n",
    "for i in a:\n",
    "    if 1 <= i < 100:\n",
    "        b.append(i)\n",
    "    elif 10000 > i >= 100:\n",
    "        c.append(i)\n",
    "if b==[]:\n",
    "    b.append(100)\n",
    "if c==[]:\n",
    "    c.append(100)\n",
    "print(max(b), min(c))"
   ]
  },
  {
   "cell_type": "code",
   "execution_count": 30,
   "id": "366c9283",
   "metadata": {},
   "outputs": [
    {
     "name": "stdout",
     "output_type": "stream",
     "text": [
      "95 100 88 65 76 89 58 93 77 99\n",
      "sum : 446\n",
      "avg : 78.8\n"
     ]
    }
   ],
   "source": [
    "#562\n",
    "\n",
    "a =  list(map(int, input().split()))\n",
    "sum_list = 0\n",
    "avg_list = []\n",
    "for i in range(len(a)):\n",
    "    if (i+1) % 2 == 0:\n",
    "        sum_list += a[i]\n",
    "    else:\n",
    "        avg_list.append(a[i])\n",
    "print(f\"sum : {sum_list}\")\n",
    "print(f\"avg : {sum(avg_list)/len(avg_list)}\")"
   ]
  },
  {
   "cell_type": "code",
   "execution_count": 32,
   "id": "64880d97",
   "metadata": {},
   "outputs": [
    {
     "name": "stdout",
     "output_type": "stream",
     "text": [
      "95 100 88 65 76 89 58 93 77 99\n",
      "100 99 95 93 89 88 77 76 65 58\n"
     ]
    }
   ],
   "source": [
    "# 563\n",
    "\n",
    "a =  list(sorted(map(int, input().split()), reverse=True))\n",
    "print(*a, sep=\" \")"
   ]
  },
  {
   "cell_type": "code",
   "execution_count": 33,
   "id": "8b6b02a5",
   "metadata": {},
   "outputs": [
    {
     "name": "stdout",
     "output_type": "stream",
     "text": [
      "A E C X Y Z c b z e\n",
      "e z b c Z Y X C E A\n"
     ]
    }
   ],
   "source": [
    "#150\n",
    "\n",
    "a =  list(map(str, input().split()))\n",
    "\n",
    "a.reverse()\n",
    "print(*a, sep =\" \")"
   ]
  },
  {
   "cell_type": "code",
   "execution_count": 36,
   "id": "879a2371",
   "metadata": {},
   "outputs": [
    {
     "name": "stdout",
     "output_type": "stream",
     "text": [
      "15 20 33 10 9\n",
      "57\n"
     ]
    }
   ],
   "source": [
    "#151\n",
    "\n",
    "a =  list(map(int, input().split()))\n",
    "\n",
    "print(a[1-1]+a[3-1]+a[5-1])"
   ]
  },
  {
   "cell_type": "code",
   "execution_count": 38,
   "id": "2740637f",
   "metadata": {},
   "outputs": [
    {
     "name": "stdout",
     "output_type": "stream",
     "text": [
      "10 20 25 66 83 7 22 90 1 100\n",
      "odd : 141\n",
      "even : 283\n"
     ]
    }
   ],
   "source": [
    "#152\n",
    "\n",
    "a =  list(map(int, input().split()))\n",
    "odd = 0\n",
    "even = 0\n",
    "for i in range(len(a)):\n",
    "    if (i+1) % 2 == 0:\n",
    "        even += a[i]\n",
    "    else:\n",
    "        odd += a[i]\n",
    "print(f\"odd : {odd}\")\n",
    "print(f\"even : {even}\")"
   ]
  },
  {
   "cell_type": "code",
   "execution_count": 49,
   "id": "308b7edd",
   "metadata": {},
   "outputs": [
    {
     "name": "stdout",
     "output_type": "stream",
     "text": [
      "30 20 10 60 80 -1\n",
      "10 60 80\n"
     ]
    }
   ],
   "source": [
    "#153\n",
    "\n",
    "x=[]\n",
    "a =  list(map(int, input().split()))\n",
    "for i in a:\n",
    "    if i != -1:\n",
    "        x.append(i)\n",
    "\n",
    "print(*x[-3:], sep= \" \")"
   ]
  },
  {
   "cell_type": "code",
   "execution_count": 54,
   "id": "8f8865fb",
   "metadata": {},
   "outputs": [
    {
     "name": "stdout",
     "output_type": "stream",
     "text": [
      "23.2 39.6 66.4 50.0 45.6 48.0\n",
      "45.5\n"
     ]
    }
   ],
   "source": [
    "#154\n",
    "\n",
    "a =  list(map(float, input().split()))\n",
    "\n",
    "print(round(sum(a)/len(a), 1))"
   ]
  },
  {
   "cell_type": "code",
   "execution_count": 74,
   "id": "28a70e1a",
   "metadata": {},
   "outputs": [
    {
     "name": "stdout",
     "output_type": "stream",
     "text": [
      "B\n",
      "none\n"
     ]
    }
   ],
   "source": [
    "#155\n",
    "\n",
    "a =  input()\n",
    "jungol = ['J', 'U', 'N', 'G', 'O', 'L']\n",
    "\n",
    "for i in range(len(jungol)):\n",
    "\n",
    "    if a == jungol[i]:\n",
    "        print(i)\n",
    "    elif a not in jungol:\n",
    "        print('none')\n",
    "        break"
   ]
  },
  {
   "cell_type": "code",
   "execution_count": 77,
   "id": "96d0d924",
   "metadata": {},
   "outputs": [
    {
     "name": "stdout",
     "output_type": "stream",
     "text": [
      "45 19 123 58 10 -55 16 -1 999\n",
      "[45, 19, 123, 58, 10, -55, 16, -1]\n",
      "max : 123\n",
      "min : -55\n"
     ]
    }
   ],
   "source": [
    "#156\n",
    "\n",
    "a =  list(map(int, input().split()))\n",
    "a = a[:-1]\n",
    "print(f\"max : {max(a)}\")\n",
    "print(f\"min : {min(a)}\")"
   ]
  },
  {
   "cell_type": "code",
   "execution_count": 80,
   "id": "eaded40f",
   "metadata": {},
   "outputs": [
    {
     "name": "stdout",
     "output_type": "stream",
     "text": [
      "35 10 23 100 64 51 5 0\n",
      "Multiples of 5 : 4\n",
      "sum : 150\n",
      "avg : 37.5\n"
     ]
    }
   ],
   "source": [
    "#157\n",
    "\n",
    "a =  list(map(int, input().split()))\n",
    "a = a[:-1]\n",
    "b=[]\n",
    "for i in a:\n",
    "    if i%5==0:\n",
    "        b.append(i)\n",
    "\n",
    "print(f\"Multiples of 5 : {len(b)}\")\n",
    "print(f\"sum : {sum(b)}\")\n",
    "print(f\"avg : {sum(b)/len(b):.1f}\")"
   ]
  },
  {
   "cell_type": "code",
   "execution_count": 83,
   "id": "45ecbb87",
   "metadata": {},
   "outputs": [
    {
     "name": "stdout",
     "output_type": "stream",
     "text": [
      "8 10 5 15 100 0\n",
      "5\n",
      "4 5 10 30 50\n"
     ]
    }
   ],
   "source": [
    "#158\n",
    "\n",
    "a =  list(map(int, input().split()))\n",
    "a = a[:-1]\n",
    "b=[]\n",
    "for i in a:\n",
    "    if i%2==0:\n",
    "        b.append(i//2)\n",
    "    else:\n",
    "        b.append(i*2)\n",
    "        \n",
    "print(len(b))\n",
    "print(*b, sep=\" \")"
   ]
  },
  {
   "cell_type": "code",
   "execution_count": 88,
   "id": "384d4226",
   "metadata": {},
   "outputs": [
    {
     "name": "stdout",
     "output_type": "stream",
     "text": [
      "5\n",
      "35 10 35 100 64\n",
      "100\n",
      "64\n",
      "35\n",
      "35\n",
      "10\n"
     ]
    }
   ],
   "source": [
    "# 159\n",
    "\n",
    "a = int(input())\n",
    "b = list(sorted(map(int, input().split()), reverse=True))\n",
    "for i in range(a):\n",
    "    print(b[i])"
   ]
  },
  {
   "cell_type": "code",
   "execution_count": null,
   "id": "ccca6497",
   "metadata": {},
   "outputs": [],
   "source": []
  }
 ],
 "metadata": {
  "interpreter": {
   "hash": "1021eb42f2633ee497a5fc3168d69682fe7fd4a44c825a122b50d9254b3c0232"
  },
  "kernelspec": {
   "display_name": "Python 3.9.12 ('base')",
   "language": "python",
   "name": "python3"
  },
  "language_info": {
   "codemirror_mode": {
    "name": "ipython",
    "version": 3
   },
   "file_extension": ".py",
   "mimetype": "text/x-python",
   "name": "python",
   "nbconvert_exporter": "python",
   "pygments_lexer": "ipython3",
   "version": "3.9.12"
  }
 },
 "nbformat": 4,
 "nbformat_minor": 5
}
